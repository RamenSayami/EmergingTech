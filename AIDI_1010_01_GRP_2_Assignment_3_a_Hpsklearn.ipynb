{
  "cells": [
    {
      "cell_type": "markdown",
      "metadata": {
        "id": "NQPxblfo33Un"
      },
      "source": [
        "# **Industry: Healthcare Industry**\n",
        "\n",
        "### **Topic:** Applications of Machine Learning in Healthcare Industry\n",
        "\n",
        "### Github repo: https://github.com/RamenSayami/EmergingTech\n",
        "\n",
        "### Dataset: https://www.kaggle.com/datasets/fedesoriano/stroke-prediction-dataset"
      ]
    },
    {
      "cell_type": "markdown",
      "metadata": {
        "id": "c8xo0n4F38rv"
      },
      "source": [
        "# **Contents:**\n",
        "###**Rubric**\n",
        "\n",
        "1.   Header Documentation\n",
        "2.   Problem Statement review\n",
        "3.   Python Code\n",
        "4.   Machine Learning prediction and Outcome\n",
        "5.   Visualization & Documentation\n",
        "6.   Trailer Documentation\n",
        "\n",
        "\n",
        "\n"
      ]
    },
    {
      "cell_type": "markdown",
      "metadata": {
        "id": "Rm4goJdd8WdO"
      },
      "source": [
        "# **Problem Statements:**\n",
        "\n",
        "<p align=\"justify\"> In the healthcare industry, accurate prediction of diseases plays a crucial role in early detection, personalized treatment, and effective resource allocation. the interpretation of medical text and accurate classification of medical images are critical tasks that have a significant impact on patient care, diagnosis, and treatment. Currently, healthcare professionals face challenges in efficiently analyzing and extracting relevant information from vast amounts of medical text and complex medical images. These texts often contain unstructured information, making it difficult to extract meaningful insights and patterns. Similarly, medical images such as X-rays, MRIs, CT scans, and histopathological images, present challenges in accurate classification due to their complexity and variability.\n",
        "\n",
        "<p align=\"justify\"> With the growing availability of healthcare data, Auto-ML has emerged as a powerful tool to analyze complex patterns and make accurate predictions. The problem at hand is to leverage Auto-ML modules to develop an automated robust disease prediction models that utilize diverse healthcare data sources, enabling healthcare professionals to make informed decisions, optimize patient care, and improve overall health outcomes.\n",
        "\n",
        "<p align=\"justify\"> The primary objective of this Auto-ML solution is to harness the power of **Hyperopt-sklearn** (hpsklearn) to build an optimal classification model for early-stage stroke prediction. By automating the selection of the best classifier, preprocessing steps, and hyperparameters, we aim to create an accurate and robust model for identifying individuals at risk of stroke.\n",
        "\n",
        "The project will aim to develop advanced techniques and methodologies to address the challenges faced in the heathcare industry such as predicting diseases, interpreting medical text and accurately classifying medical images. The purpose of addressing the problem of predicting diseases, interpreting medical text and classifying medical images in the healthcare industry is to improve the accuracy, efficiency, and effectiveness of healthcare processes and decision-making. By leveraging automated machine learning (AutoML) techniques, the aim is to enhance the interpretation of medical text and improve the classification of medical images, ultimately leading to better patient care and outcomes. AutoML, or Automated Machine Learning, refers to the automated process of building and optimizing machine learning models without the need for manual intervention. It aims to streamline the model development process, reduce the time and effort required, and improve the accuracy and efficiency of the models.\n",
        "\n",
        "#**Background:**\n",
        "Predicting strokes at their nascent stages is a critical challenge. Traditional methods often fall short due to the complexity of stroke risk factors and the need for precise parameter configurations in classification models. This Auto-ML solution with **Hyperopt-sklearn** seeks to address these challenges by intelligently exploring a broad spectrum of classifier algorithms, preprocessing techniques, and hyperparameters to uncover the optimal configuration for stroke prediction.\n",
        "\n",
        "#**Purpose vision and scope of the problem:**\n",
        "\n",
        "<p align=\"justify\"> The purpose of predicting diseases in the healthcare industry is to leverage data-driven techniques, including machine learning, to improve early detection, intervention, and treatment strategies. By developing accurate disease prediction models, healthcare professionals can proactively identify individuals at risk, optimize resource allocation, and enhance patient outcomes. The ultimate goal is to transform healthcare delivery by leveraging predictive analytics to improve disease management, reduce healthcare costs, and save lives.\n",
        "\n",
        "\n",
        "<p align=\"justify\"> The vision for predicting diseases in the healthcare industry is to create a data-driven and proactive healthcare system that prioritizes prevention, early detection, and personalized treatment. By harnessing the power of advanced analytics and machine learning algorithms, healthcare providers can identify patterns, detect anomalies, and predict disease outcomes with greater accuracy. This vision includes empowering healthcare professionals with tools and insights that enable evidence-based decision-making and enhance patient care across diverse populations and healthcare settings.\n",
        "\n",
        "#**The Object/Solution/Proposed Method:**\n",
        "\n",
        "<p align=\"justify\"> The ideal solution for predicting diseases, interpreting medical text and image classification in the healthcare industry involves implementing machine learning models such as AutoML techniques.\n",
        "\n",
        "<p align=\"justify\">  One of the main objectives of implementing the AutoML is to enhance automated prediction of diseases, interpretation of medical text and the classification of medical images. Medical texts, such as clinical notes, research articles, and patient records, contain a wealth of valuable information that can aid in diagnosis, treatment planning, and medical research.\n",
        "\n",
        "##**How this Solution would add value to the realworld:**\n",
        "The proposed solution, integrating Hyperopt-sklearn for automated stroke prediction within an Auto-ML framework, holds immense value for real-world applications, particularly in healthcare. By enabling early detection of stroke risk, the solution empowers timely interventions that can significantly improve patient outcomes. Through automation and optimization, healthcare professionals can efficiently allocate resources and provide personalized care, leading to cost savings and better resource utilization. Moreover, the solution's ability to continuously learn from new data contributes to data-driven insights and advancements in stroke prevention strategies. Ultimately, its impact on improving patient care, reducing healthcare costs, and enhancing public health outcomes positions it as a valuable tool with potential far-reaching benefits.\n",
        "\n",
        "#**Python Code on Prediction of Stroke in the Healthcare Industry:**\n",
        "\n",
        "**In this notebook below, we are focusing on the \"Early prediction of stroke\"**\n",
        "\n",
        "###**Description is outlined below:**\n",
        "<p align=\"justify\">- Developing a model that can easily predict stroke at the early stages has been a challenge using the traditional approach.  This report will show how we have successfully developed various  machine learning binary classification algorithms to solve the problem of predicting stroke at the early stages.\n",
        "\n",
        "**-Context of the Problem:**\n",
        "<p align=\"justify\">- Early diagnosis and prediction of stroke are more difficult to determine especially when modern medical technology is not accessible to the public and therefore,\n",
        "with the use of Machine learning, life threatening illnesses can be predicted easily thereby making it a\n",
        "great tool for the healthcare sector to discover and treat patients with stroke at a quick pace.\n",
        "\n",
        "<p align=\"justify\">- These factors which will be referred to as “features” in this report will be analyzed against the target variable (stroke) to determine their features importance.\n",
        "\n",
        "#**Methodology:**\n",
        "\n",
        "**Data Preparation:** We meticulously prepare the stroke dataset, ensuring data integrity and consistency. This involves handling missing values, encoding categorical features, and normalizing numerical features. The dataset is carefully partitioned into training, validation, and testing subsets to ensure rigorous model evaluation.\n",
        "Search Space Definition: Our Auto-ML framework defines an expansive search space for Hyperopt-sklearn, encompassing a diverse array of classifiers, including Decision Trees, Random Forests, Support Vector Machines, and more. We also consider various preprocessing steps, such as feature scaling and selection, enabling a comprehensive exploration of possibilities.\n",
        "\n",
        "\n",
        "**Automated Hyperparameter Tuning:** Hyperopt-sklearn automates the hyperparameter tuning process, seeking the optimal configuration that yields the highest performance on the validation set. This automated approach reduces manual effort, accelerates the model development process, and enhances the model's predictive accuracy.\n",
        "\n",
        "**Model Evaluation:** The best model obtained from the automated tuning process is rigorously evaluated on a dedicated testing set. A comprehensive set of evaluation metrics, tailored to the specifics of stroke prediction, is used to assess the model's accuracy, sensitivity, specificity, and overall effectiveness.\n",
        "\n",
        "\n",
        "##**The Power of Automated Hyperparameter Tuning**\n",
        "Hyperopt-sklearn's core strength lies in its automated hyperparameter tuning capabilities. This feature empowers the system to systematically explore a diverse range of hyperparameter configurations, leading to finely tuned models tailored to the specific nuances of stroke prediction.\n",
        "\n",
        "###**Advantages Demonstrated**\n",
        "Our investigation reveals several key advantages achieved through the integration of Hyperopt-sklearn:\n",
        "\n",
        "**Enhanced Efficiency:** By automating the time-consuming task of manual hyperparameter tuning, our approach significantly improves efficiency. We can explore a broader array of hyperparameter configurations in less time, maximizing resource utilization.\n",
        "**Adaptability:** The automated optimization process ensures that our stroke prediction model remains adaptable to changes in data patterns, a crucial factor in the ever-evolving landscape of healthcare data.\n",
        "\n",
        "**Improved Generalization:** The finely tuned model exhibits superior generalization capabilities. This aspect is particularly crucial in stroke prediction, as the model's ability to accurately predict on unseen data is paramount.\n",
        "**Mitigated Overfitting:** Hyperopt-sklearn's guidance in hyperparameter selection reduces the risk of overfitting. This ensures that our model strikes the right balance between capturing the complexities of the training data and maintaining robustness when exposed to new data.\n",
        "\n",
        "**The Path Forward**\n",
        "Having demonstrated the clear advantages of Hyperopt-sklearn in stroke prediction, we are well-positioned to further refine and deploy our optimized model in real-world scenarios. Continuous monitoring and refinement will be essential to ensure the model's ongoing effectiveness.\n",
        "\n",
        "Finally, we will show in this project, how the utilization of Hyperopt-sklearn offers a decisive advantage in the realm of stroke prediction. By automating and optimizing hyperparameter tuning, we enhance the accuracy, efficiency, adaptability, generalization, and overfitting reduction of our stroke prediction model. This approach represents a significant step forward in the pursuit of early and accurate stroke detection, with potential far-reaching impacts in the field of healthcare.\n",
        "\n"
      ]
    },
    {
      "cell_type": "markdown",
      "metadata": {
        "id": "5ANNeGFj4bLU"
      },
      "source": [
        "# **1 - Installing hpsklearn (Google Colab)**"
      ]
    },
    {
      "cell_type": "code",
      "execution_count": null,
      "metadata": {
        "id": "5MgvYkpm8hZz"
      },
      "outputs": [],
      "source": [
        "#1.1 - Install Linux Dependencies & Module\n",
        "!sudo apt-get install build-essential swig\n",
        "!pip install dask distributed --upgrade\n",
        "!pip install numpy\n",
        "!pip install matplotlib\n",
        "!pip install hyperopt\n",
        "!pip install hpsklearn\n",
        "!pip install pipelineprofiler\n",
        "!pip install -U scikit-learn\n",
        "!pip install git+https://github.com/hyperopt/hyperopt-sklearn.git\n",
        "!pip install git+https://github.com/jaberg/skdata.git"
      ]
    },
    {
      "cell_type": "markdown",
      "metadata": {
        "id": "FNCjc9zJ8uF5"
      },
      "source": [
        "**Note: Restart Runtime & Re-Run below**"
      ]
    },
    {
      "cell_type": "code",
      "execution_count": 1,
      "metadata": {
        "colab": {
          "base_uri": "https://localhost:8080/"
        },
        "id": "viGBR7ax85Qh",
        "outputId": "98f42419-420b-468f-ad38-2867236af7a7"
      },
      "outputs": [
        {
          "output_type": "stream",
          "name": "stdout",
          "text": [
            "Reading package lists... Done\n",
            "Building dependency tree... Done\n",
            "Reading state information... Done\n",
            "build-essential is already the newest version (12.9ubuntu3).\n",
            "swig is already the newest version (4.0.2-1ubuntu1).\n",
            "0 upgraded, 0 newly installed, 0 to remove and 16 not upgraded.\n",
            "Requirement already satisfied: dask in /usr/local/lib/python3.10/dist-packages (2023.8.0)\n",
            "Requirement already satisfied: distributed in /usr/local/lib/python3.10/dist-packages (2023.8.0)\n",
            "Requirement already satisfied: click>=8.0 in /usr/local/lib/python3.10/dist-packages (from dask) (8.1.6)\n",
            "Requirement already satisfied: cloudpickle>=1.5.0 in /usr/local/lib/python3.10/dist-packages (from dask) (2.2.1)\n",
            "Requirement already satisfied: fsspec>=2021.09.0 in /usr/local/lib/python3.10/dist-packages (from dask) (2023.6.0)\n",
            "Requirement already satisfied: packaging>=20.0 in /usr/local/lib/python3.10/dist-packages (from dask) (23.1)\n",
            "Requirement already satisfied: partd>=1.2.0 in /usr/local/lib/python3.10/dist-packages (from dask) (1.4.0)\n",
            "Requirement already satisfied: pyyaml>=5.3.1 in /usr/local/lib/python3.10/dist-packages (from dask) (6.0.1)\n",
            "Requirement already satisfied: toolz>=0.10.0 in /usr/local/lib/python3.10/dist-packages (from dask) (0.12.0)\n",
            "Requirement already satisfied: importlib-metadata>=4.13.0 in /usr/local/lib/python3.10/dist-packages (from dask) (6.8.0)\n",
            "Requirement already satisfied: jinja2>=2.10.3 in /usr/local/lib/python3.10/dist-packages (from distributed) (3.1.2)\n",
            "Requirement already satisfied: locket>=1.0.0 in /usr/local/lib/python3.10/dist-packages (from distributed) (1.0.0)\n",
            "Requirement already satisfied: msgpack>=1.0.0 in /usr/local/lib/python3.10/dist-packages (from distributed) (1.0.5)\n",
            "Requirement already satisfied: psutil>=5.7.2 in /usr/local/lib/python3.10/dist-packages (from distributed) (5.9.5)\n",
            "Requirement already satisfied: sortedcontainers>=2.0.5 in /usr/local/lib/python3.10/dist-packages (from distributed) (2.4.0)\n",
            "Requirement already satisfied: tblib>=1.6.0 in /usr/local/lib/python3.10/dist-packages (from distributed) (2.0.0)\n",
            "Requirement already satisfied: tornado>=6.0.4 in /usr/local/lib/python3.10/dist-packages (from distributed) (6.3.1)\n",
            "Requirement already satisfied: urllib3>=1.24.3 in /usr/local/lib/python3.10/dist-packages (from distributed) (2.0.4)\n",
            "Requirement already satisfied: zict>=2.2.0 in /usr/local/lib/python3.10/dist-packages (from distributed) (3.0.0)\n",
            "Requirement already satisfied: zipp>=0.5 in /usr/local/lib/python3.10/dist-packages (from importlib-metadata>=4.13.0->dask) (3.16.2)\n",
            "Requirement already satisfied: MarkupSafe>=2.0 in /usr/local/lib/python3.10/dist-packages (from jinja2>=2.10.3->distributed) (2.1.3)\n",
            "Requirement already satisfied: numpy in /usr/local/lib/python3.10/dist-packages (1.23.5)\n",
            "Requirement already satisfied: matplotlib in /usr/local/lib/python3.10/dist-packages (3.7.1)\n",
            "Requirement already satisfied: contourpy>=1.0.1 in /usr/local/lib/python3.10/dist-packages (from matplotlib) (1.1.0)\n",
            "Requirement already satisfied: cycler>=0.10 in /usr/local/lib/python3.10/dist-packages (from matplotlib) (0.11.0)\n",
            "Requirement already satisfied: fonttools>=4.22.0 in /usr/local/lib/python3.10/dist-packages (from matplotlib) (4.42.0)\n",
            "Requirement already satisfied: kiwisolver>=1.0.1 in /usr/local/lib/python3.10/dist-packages (from matplotlib) (1.4.4)\n",
            "Requirement already satisfied: numpy>=1.20 in /usr/local/lib/python3.10/dist-packages (from matplotlib) (1.23.5)\n",
            "Requirement already satisfied: packaging>=20.0 in /usr/local/lib/python3.10/dist-packages (from matplotlib) (23.1)\n",
            "Requirement already satisfied: pillow>=6.2.0 in /usr/local/lib/python3.10/dist-packages (from matplotlib) (9.4.0)\n",
            "Requirement already satisfied: pyparsing>=2.3.1 in /usr/local/lib/python3.10/dist-packages (from matplotlib) (3.1.1)\n",
            "Requirement already satisfied: python-dateutil>=2.7 in /usr/local/lib/python3.10/dist-packages (from matplotlib) (2.8.2)\n",
            "Requirement already satisfied: six>=1.5 in /usr/local/lib/python3.10/dist-packages (from python-dateutil>=2.7->matplotlib) (1.16.0)\n",
            "Requirement already satisfied: hyperopt in /usr/local/lib/python3.10/dist-packages (0.2.7)\n",
            "Requirement already satisfied: numpy in /usr/local/lib/python3.10/dist-packages (from hyperopt) (1.23.5)\n",
            "Requirement already satisfied: scipy in /usr/local/lib/python3.10/dist-packages (from hyperopt) (1.10.1)\n",
            "Requirement already satisfied: six in /usr/local/lib/python3.10/dist-packages (from hyperopt) (1.16.0)\n",
            "Requirement already satisfied: networkx>=2.2 in /usr/local/lib/python3.10/dist-packages (from hyperopt) (3.1)\n",
            "Requirement already satisfied: future in /usr/local/lib/python3.10/dist-packages (from hyperopt) (0.18.3)\n",
            "Requirement already satisfied: tqdm in /usr/local/lib/python3.10/dist-packages (from hyperopt) (4.66.0)\n",
            "Requirement already satisfied: cloudpickle in /usr/local/lib/python3.10/dist-packages (from hyperopt) (2.2.1)\n",
            "Requirement already satisfied: py4j in /usr/local/lib/python3.10/dist-packages (from hyperopt) (0.10.9.7)\n",
            "Requirement already satisfied: hpsklearn in /usr/local/lib/python3.10/dist-packages (1.0.3)\n",
            "Requirement already satisfied: hyperopt>=0.2.6 in /usr/local/lib/python3.10/dist-packages (from hpsklearn) (0.2.7)\n",
            "Requirement already satisfied: numpy>=1.21.2 in /usr/local/lib/python3.10/dist-packages (from hpsklearn) (1.23.5)\n",
            "Requirement already satisfied: scikit-learn>=1.0 in /usr/local/lib/python3.10/dist-packages (from hpsklearn) (1.3.0)\n",
            "Requirement already satisfied: scipy>=1.7.1 in /usr/local/lib/python3.10/dist-packages (from hpsklearn) (1.10.1)\n",
            "Requirement already satisfied: six in /usr/local/lib/python3.10/dist-packages (from hyperopt>=0.2.6->hpsklearn) (1.16.0)\n",
            "Requirement already satisfied: networkx>=2.2 in /usr/local/lib/python3.10/dist-packages (from hyperopt>=0.2.6->hpsklearn) (3.1)\n",
            "Requirement already satisfied: future in /usr/local/lib/python3.10/dist-packages (from hyperopt>=0.2.6->hpsklearn) (0.18.3)\n",
            "Requirement already satisfied: tqdm in /usr/local/lib/python3.10/dist-packages (from hyperopt>=0.2.6->hpsklearn) (4.66.0)\n",
            "Requirement already satisfied: cloudpickle in /usr/local/lib/python3.10/dist-packages (from hyperopt>=0.2.6->hpsklearn) (2.2.1)\n",
            "Requirement already satisfied: py4j in /usr/local/lib/python3.10/dist-packages (from hyperopt>=0.2.6->hpsklearn) (0.10.9.7)\n",
            "Requirement already satisfied: joblib>=1.1.1 in /usr/local/lib/python3.10/dist-packages (from scikit-learn>=1.0->hpsklearn) (1.3.2)\n",
            "Requirement already satisfied: threadpoolctl>=2.0.0 in /usr/local/lib/python3.10/dist-packages (from scikit-learn>=1.0->hpsklearn) (3.2.0)\n",
            "Requirement already satisfied: pipelineprofiler in /usr/local/lib/python3.10/dist-packages (0.1.18)\n",
            "Requirement already satisfied: python-dateutil in /usr/local/lib/python3.10/dist-packages (from pipelineprofiler) (2.8.2)\n",
            "Requirement already satisfied: numpy in /usr/local/lib/python3.10/dist-packages (from pipelineprofiler) (1.23.5)\n",
            "Requirement already satisfied: scipy in /usr/local/lib/python3.10/dist-packages (from pipelineprofiler) (1.10.1)\n",
            "Requirement already satisfied: scikit-learn in /usr/local/lib/python3.10/dist-packages (from pipelineprofiler) (1.3.0)\n",
            "Requirement already satisfied: networkx in /usr/local/lib/python3.10/dist-packages (from pipelineprofiler) (3.1)\n",
            "Requirement already satisfied: notebook in /usr/local/lib/python3.10/dist-packages (from pipelineprofiler) (6.4.8)\n",
            "Requirement already satisfied: jinja2 in /usr/local/lib/python3.10/dist-packages (from notebook->pipelineprofiler) (3.1.2)\n",
            "Requirement already satisfied: tornado>=6.1 in /usr/local/lib/python3.10/dist-packages (from notebook->pipelineprofiler) (6.3.1)\n",
            "Requirement already satisfied: pyzmq>=17 in /usr/local/lib/python3.10/dist-packages (from notebook->pipelineprofiler) (23.2.1)\n",
            "Requirement already satisfied: argon2-cffi in /usr/local/lib/python3.10/dist-packages (from notebook->pipelineprofiler) (21.3.0)\n",
            "Requirement already satisfied: ipython-genutils in /usr/local/lib/python3.10/dist-packages (from notebook->pipelineprofiler) (0.2.0)\n",
            "Requirement already satisfied: traitlets>=4.2.1 in /usr/local/lib/python3.10/dist-packages (from notebook->pipelineprofiler) (5.7.1)\n",
            "Requirement already satisfied: jupyter-core>=4.6.1 in /usr/local/lib/python3.10/dist-packages (from notebook->pipelineprofiler) (5.3.1)\n",
            "Requirement already satisfied: jupyter-client>=5.3.4 in /usr/local/lib/python3.10/dist-packages (from notebook->pipelineprofiler) (6.1.12)\n",
            "Requirement already satisfied: nbformat in /usr/local/lib/python3.10/dist-packages (from notebook->pipelineprofiler) (5.9.2)\n",
            "Requirement already satisfied: nbconvert in /usr/local/lib/python3.10/dist-packages (from notebook->pipelineprofiler) (6.5.4)\n",
            "Requirement already satisfied: nest-asyncio>=1.5 in /usr/local/lib/python3.10/dist-packages (from notebook->pipelineprofiler) (1.5.7)\n",
            "Requirement already satisfied: ipykernel in /usr/local/lib/python3.10/dist-packages (from notebook->pipelineprofiler) (5.5.6)\n",
            "Requirement already satisfied: Send2Trash>=1.8.0 in /usr/local/lib/python3.10/dist-packages (from notebook->pipelineprofiler) (1.8.2)\n",
            "Requirement already satisfied: terminado>=0.8.3 in /usr/local/lib/python3.10/dist-packages (from notebook->pipelineprofiler) (0.17.1)\n",
            "Requirement already satisfied: prometheus-client in /usr/local/lib/python3.10/dist-packages (from notebook->pipelineprofiler) (0.17.1)\n",
            "Requirement already satisfied: six>=1.5 in /usr/local/lib/python3.10/dist-packages (from python-dateutil->pipelineprofiler) (1.16.0)\n",
            "Requirement already satisfied: joblib>=1.1.1 in /usr/local/lib/python3.10/dist-packages (from scikit-learn->pipelineprofiler) (1.3.2)\n",
            "Requirement already satisfied: threadpoolctl>=2.0.0 in /usr/local/lib/python3.10/dist-packages (from scikit-learn->pipelineprofiler) (3.2.0)\n",
            "Requirement already satisfied: platformdirs>=2.5 in /usr/local/lib/python3.10/dist-packages (from jupyter-core>=4.6.1->notebook->pipelineprofiler) (3.10.0)\n",
            "Requirement already satisfied: ptyprocess in /usr/local/lib/python3.10/dist-packages (from terminado>=0.8.3->notebook->pipelineprofiler) (0.7.0)\n",
            "Requirement already satisfied: argon2-cffi-bindings in /usr/local/lib/python3.10/dist-packages (from argon2-cffi->notebook->pipelineprofiler) (21.2.0)\n",
            "Requirement already satisfied: ipython>=5.0.0 in /usr/local/lib/python3.10/dist-packages (from ipykernel->notebook->pipelineprofiler) (7.34.0)\n",
            "Requirement already satisfied: MarkupSafe>=2.0 in /usr/local/lib/python3.10/dist-packages (from jinja2->notebook->pipelineprofiler) (2.1.3)\n",
            "Requirement already satisfied: lxml in /usr/local/lib/python3.10/dist-packages (from nbconvert->notebook->pipelineprofiler) (4.9.3)\n",
            "Requirement already satisfied: beautifulsoup4 in /usr/local/lib/python3.10/dist-packages (from nbconvert->notebook->pipelineprofiler) (4.11.2)\n",
            "Requirement already satisfied: bleach in /usr/local/lib/python3.10/dist-packages (from nbconvert->notebook->pipelineprofiler) (6.0.0)\n",
            "Requirement already satisfied: defusedxml in /usr/local/lib/python3.10/dist-packages (from nbconvert->notebook->pipelineprofiler) (0.7.1)\n",
            "Requirement already satisfied: entrypoints>=0.2.2 in /usr/local/lib/python3.10/dist-packages (from nbconvert->notebook->pipelineprofiler) (0.4)\n",
            "Requirement already satisfied: jupyterlab-pygments in /usr/local/lib/python3.10/dist-packages (from nbconvert->notebook->pipelineprofiler) (0.2.2)\n",
            "Requirement already satisfied: mistune<2,>=0.8.1 in /usr/local/lib/python3.10/dist-packages (from nbconvert->notebook->pipelineprofiler) (0.8.4)\n",
            "Requirement already satisfied: nbclient>=0.5.0 in /usr/local/lib/python3.10/dist-packages (from nbconvert->notebook->pipelineprofiler) (0.8.0)\n",
            "Requirement already satisfied: packaging in /usr/local/lib/python3.10/dist-packages (from nbconvert->notebook->pipelineprofiler) (23.1)\n",
            "Requirement already satisfied: pandocfilters>=1.4.1 in /usr/local/lib/python3.10/dist-packages (from nbconvert->notebook->pipelineprofiler) (1.5.0)\n",
            "Requirement already satisfied: pygments>=2.4.1 in /usr/local/lib/python3.10/dist-packages (from nbconvert->notebook->pipelineprofiler) (2.16.1)\n",
            "Requirement already satisfied: tinycss2 in /usr/local/lib/python3.10/dist-packages (from nbconvert->notebook->pipelineprofiler) (1.2.1)\n",
            "Requirement already satisfied: fastjsonschema in /usr/local/lib/python3.10/dist-packages (from nbformat->notebook->pipelineprofiler) (2.18.0)\n",
            "Requirement already satisfied: jsonschema>=2.6 in /usr/local/lib/python3.10/dist-packages (from nbformat->notebook->pipelineprofiler) (4.19.0)\n",
            "Requirement already satisfied: setuptools>=18.5 in /usr/local/lib/python3.10/dist-packages (from ipython>=5.0.0->ipykernel->notebook->pipelineprofiler) (67.7.2)\n",
            "Requirement already satisfied: jedi>=0.16 in /usr/local/lib/python3.10/dist-packages (from ipython>=5.0.0->ipykernel->notebook->pipelineprofiler) (0.19.0)\n",
            "Requirement already satisfied: decorator in /usr/local/lib/python3.10/dist-packages (from ipython>=5.0.0->ipykernel->notebook->pipelineprofiler) (4.4.2)\n",
            "Requirement already satisfied: pickleshare in /usr/local/lib/python3.10/dist-packages (from ipython>=5.0.0->ipykernel->notebook->pipelineprofiler) (0.7.5)\n",
            "Requirement already satisfied: prompt-toolkit!=3.0.0,!=3.0.1,<3.1.0,>=2.0.0 in /usr/local/lib/python3.10/dist-packages (from ipython>=5.0.0->ipykernel->notebook->pipelineprofiler) (3.0.39)\n",
            "Requirement already satisfied: backcall in /usr/local/lib/python3.10/dist-packages (from ipython>=5.0.0->ipykernel->notebook->pipelineprofiler) (0.2.0)\n",
            "Requirement already satisfied: matplotlib-inline in /usr/local/lib/python3.10/dist-packages (from ipython>=5.0.0->ipykernel->notebook->pipelineprofiler) (0.1.6)\n",
            "Requirement already satisfied: pexpect>4.3 in /usr/local/lib/python3.10/dist-packages (from ipython>=5.0.0->ipykernel->notebook->pipelineprofiler) (4.8.0)\n",
            "Requirement already satisfied: attrs>=22.2.0 in /usr/local/lib/python3.10/dist-packages (from jsonschema>=2.6->nbformat->notebook->pipelineprofiler) (23.1.0)\n",
            "Requirement already satisfied: jsonschema-specifications>=2023.03.6 in /usr/local/lib/python3.10/dist-packages (from jsonschema>=2.6->nbformat->notebook->pipelineprofiler) (2023.7.1)\n",
            "Requirement already satisfied: referencing>=0.28.4 in /usr/local/lib/python3.10/dist-packages (from jsonschema>=2.6->nbformat->notebook->pipelineprofiler) (0.30.2)\n",
            "Requirement already satisfied: rpds-py>=0.7.1 in /usr/local/lib/python3.10/dist-packages (from jsonschema>=2.6->nbformat->notebook->pipelineprofiler) (0.9.2)\n",
            "Requirement already satisfied: cffi>=1.0.1 in /usr/local/lib/python3.10/dist-packages (from argon2-cffi-bindings->argon2-cffi->notebook->pipelineprofiler) (1.15.1)\n",
            "Requirement already satisfied: soupsieve>1.2 in /usr/local/lib/python3.10/dist-packages (from beautifulsoup4->nbconvert->notebook->pipelineprofiler) (2.4.1)\n",
            "Requirement already satisfied: webencodings in /usr/local/lib/python3.10/dist-packages (from bleach->nbconvert->notebook->pipelineprofiler) (0.5.1)\n",
            "Requirement already satisfied: pycparser in /usr/local/lib/python3.10/dist-packages (from cffi>=1.0.1->argon2-cffi-bindings->argon2-cffi->notebook->pipelineprofiler) (2.21)\n",
            "Requirement already satisfied: parso<0.9.0,>=0.8.3 in /usr/local/lib/python3.10/dist-packages (from jedi>=0.16->ipython>=5.0.0->ipykernel->notebook->pipelineprofiler) (0.8.3)\n",
            "Requirement already satisfied: wcwidth in /usr/local/lib/python3.10/dist-packages (from prompt-toolkit!=3.0.0,!=3.0.1,<3.1.0,>=2.0.0->ipython>=5.0.0->ipykernel->notebook->pipelineprofiler) (0.2.6)\n",
            "Requirement already satisfied: scikit-learn in /usr/local/lib/python3.10/dist-packages (1.3.0)\n",
            "Requirement already satisfied: numpy>=1.17.3 in /usr/local/lib/python3.10/dist-packages (from scikit-learn) (1.23.5)\n",
            "Requirement already satisfied: scipy>=1.5.0 in /usr/local/lib/python3.10/dist-packages (from scikit-learn) (1.10.1)\n",
            "Requirement already satisfied: joblib>=1.1.1 in /usr/local/lib/python3.10/dist-packages (from scikit-learn) (1.3.2)\n",
            "Requirement already satisfied: threadpoolctl>=2.0.0 in /usr/local/lib/python3.10/dist-packages (from scikit-learn) (3.2.0)\n",
            "Collecting git+https://github.com/hyperopt/hyperopt-sklearn.git\n",
            "  Cloning https://github.com/hyperopt/hyperopt-sklearn.git to /tmp/pip-req-build-sf1ae22v\n",
            "  Running command git clone --filter=blob:none --quiet https://github.com/hyperopt/hyperopt-sklearn.git /tmp/pip-req-build-sf1ae22v\n",
            "  Resolved https://github.com/hyperopt/hyperopt-sklearn.git to commit 4b3f6fde3a1ded2e71e8373d52c1b51a0239ef91\n",
            "  Installing build dependencies ... \u001b[?25l\u001b[?25hdone\n",
            "  Getting requirements to build wheel ... \u001b[?25l\u001b[?25hdone\n",
            "  Preparing metadata (pyproject.toml) ... \u001b[?25l\u001b[?25hdone\n",
            "Requirement already satisfied: hyperopt>=0.2.6 in /usr/local/lib/python3.10/dist-packages (from hpsklearn==1.0.3) (0.2.7)\n",
            "Requirement already satisfied: numpy>=1.21.2 in /usr/local/lib/python3.10/dist-packages (from hpsklearn==1.0.3) (1.23.5)\n",
            "Requirement already satisfied: scikit-learn>=1.0 in /usr/local/lib/python3.10/dist-packages (from hpsklearn==1.0.3) (1.3.0)\n",
            "Requirement already satisfied: scipy>=1.7.1 in /usr/local/lib/python3.10/dist-packages (from hpsklearn==1.0.3) (1.10.1)\n",
            "Requirement already satisfied: six in /usr/local/lib/python3.10/dist-packages (from hyperopt>=0.2.6->hpsklearn==1.0.3) (1.16.0)\n",
            "Requirement already satisfied: networkx>=2.2 in /usr/local/lib/python3.10/dist-packages (from hyperopt>=0.2.6->hpsklearn==1.0.3) (3.1)\n",
            "Requirement already satisfied: future in /usr/local/lib/python3.10/dist-packages (from hyperopt>=0.2.6->hpsklearn==1.0.3) (0.18.3)\n",
            "Requirement already satisfied: tqdm in /usr/local/lib/python3.10/dist-packages (from hyperopt>=0.2.6->hpsklearn==1.0.3) (4.66.0)\n",
            "Requirement already satisfied: cloudpickle in /usr/local/lib/python3.10/dist-packages (from hyperopt>=0.2.6->hpsklearn==1.0.3) (2.2.1)\n",
            "Requirement already satisfied: py4j in /usr/local/lib/python3.10/dist-packages (from hyperopt>=0.2.6->hpsklearn==1.0.3) (0.10.9.7)\n",
            "Requirement already satisfied: joblib>=1.1.1 in /usr/local/lib/python3.10/dist-packages (from scikit-learn>=1.0->hpsklearn==1.0.3) (1.3.2)\n",
            "Requirement already satisfied: threadpoolctl>=2.0.0 in /usr/local/lib/python3.10/dist-packages (from scikit-learn>=1.0->hpsklearn==1.0.3) (3.2.0)\n",
            "Collecting git+https://github.com/jaberg/skdata.git\n",
            "  Cloning https://github.com/jaberg/skdata.git to /tmp/pip-req-build-fbivyk_b\n",
            "  Running command git clone --filter=blob:none --quiet https://github.com/jaberg/skdata.git /tmp/pip-req-build-fbivyk_b\n",
            "  Resolved https://github.com/jaberg/skdata.git to commit fb08e82cdd4fc080bd619ab5acdb0d82aee30787\n",
            "  Preparing metadata (setup.py) ... \u001b[?25l\u001b[?25hdone\n",
            "Requirement already satisfied: nose>=1.0 in /usr/local/lib/python3.10/dist-packages (from skdata==0.0.4) (1.3.7)\n",
            "Requirement already satisfied: numpy in /usr/local/lib/python3.10/dist-packages (from skdata==0.0.4) (1.23.5)\n",
            "Requirement already satisfied: joblib in /usr/local/lib/python3.10/dist-packages (from skdata==0.0.4) (1.3.2)\n",
            "Requirement already satisfied: lockfile in /usr/local/lib/python3.10/dist-packages (from skdata==0.0.4) (0.12.2)\n",
            "Requirement already satisfied: scikit-learn in /usr/local/lib/python3.10/dist-packages (from skdata==0.0.4) (1.3.0)\n",
            "Requirement already satisfied: scipy>=1.5.0 in /usr/local/lib/python3.10/dist-packages (from scikit-learn->skdata==0.0.4) (1.10.1)\n",
            "Requirement already satisfied: threadpoolctl>=2.0.0 in /usr/local/lib/python3.10/dist-packages (from scikit-learn->skdata==0.0.4) (3.2.0)\n"
          ]
        }
      ],
      "source": [
        "#1.2 - Re-Check Linux Dependencies & Module\n",
        "!sudo apt-get install build-essential swig\n",
        "!pip install dask distributed --upgrade\n",
        "!pip install numpy\n",
        "!pip install matplotlib\n",
        "!pip install hyperopt\n",
        "!pip install hpsklearn\n",
        "!pip install pipelineprofiler\n",
        "!pip install -U scikit-learn\n",
        "!pip install git+https://github.com/hyperopt/hyperopt-sklearn.git\n",
        "!pip install git+https://github.com/jaberg/skdata.git"
      ]
    },
    {
      "cell_type": "markdown",
      "metadata": {
        "id": "Q51dKAzaM7KW"
      },
      "source": [
        "# **2- ExampleA (Classification)**"
      ]
    },
    {
      "cell_type": "code",
      "execution_count": 2,
      "metadata": {
        "id": "AHEHppO0M-T2"
      },
      "outputs": [],
      "source": [
        "#Scenario: Sonar dataset, binary classification. Predict whether sonar returns indicate a rock or simulated mine.\n",
        "\n",
        "#2.1 - Load Modules\n",
        "import pandas as pd\n",
        "from sklearn.preprocessing import LabelEncoder\n",
        "from sklearn.model_selection import train_test_split\n",
        "from hpsklearn import HyperoptEstimator\n",
        "from hpsklearn import any_preprocessing #PreProcessor\n",
        "from hpsklearn import random_forest_classifier #PreProcessor\n",
        "from hpsklearn import any_classifier #Model\n",
        "from hyperopt import tpe #Estimator\n",
        "from sklearn.utils import resample\n",
        "import numpy as np\n",
        "from hpsklearn import HyperoptEstimator, extra_trees_classifier, bagging_classifier, gradient_boosting_classifier,decision_tree_classifier,xgboost_classification,random_forest_classifier, k_neighbors_classifier\n",
        "from hyperopt import fmin, hp, tpe, Trials, space_eval\n",
        "from sklearn.ensemble import VotingClassifier\n"
      ]
    },
    {
      "cell_type": "code",
      "execution_count": 3,
      "metadata": {
        "colab": {
          "base_uri": "https://localhost:8080/"
        },
        "id": "JcSShvIZNZU4",
        "outputId": "f56cf4cb-1686-4d2f-f68e-39cb5af54a33"
      },
      "outputs": [
        {
          "output_type": "stream",
          "name": "stdout",
          "text": [
            "Data Types: \n",
            " id                     int64\n",
            "gender                object\n",
            "age                  float64\n",
            "hypertension           int64\n",
            "heart_disease          int64\n",
            "ever_married          object\n",
            "work_type             object\n",
            "Residence_type        object\n",
            "avg_glucose_level    float64\n",
            "bmi                  float64\n",
            "smoking_status        object\n",
            "stroke                 int64\n",
            "dtype: object \n",
            "\n",
            "<class 'pandas.core.frame.DataFrame'>\n",
            "RangeIndex: 5110 entries, 0 to 5109\n",
            "Data columns (total 12 columns):\n",
            " #   Column             Non-Null Count  Dtype  \n",
            "---  ------             --------------  -----  \n",
            " 0   id                 5110 non-null   int64  \n",
            " 1   gender             5110 non-null   object \n",
            " 2   age                5110 non-null   float64\n",
            " 3   hypertension       5110 non-null   int64  \n",
            " 4   heart_disease      5110 non-null   int64  \n",
            " 5   ever_married       5110 non-null   object \n",
            " 6   work_type          5110 non-null   object \n",
            " 7   Residence_type     5110 non-null   object \n",
            " 8   avg_glucose_level  5110 non-null   float64\n",
            " 9   bmi                4909 non-null   float64\n",
            " 10  smoking_status     5110 non-null   object \n",
            " 11  stroke             5110 non-null   int64  \n",
            "dtypes: float64(3), int64(4), object(5)\n",
            "memory usage: 479.2+ KB\n",
            "None \n",
            "\n",
            "Head Records: \n",
            "       id  gender   age  hypertension  heart_disease ever_married  \\\n",
            "0   9046    Male  67.0             0              1          Yes   \n",
            "1  51676  Female  61.0             0              0          Yes   \n",
            "2  31112    Male  80.0             0              1          Yes   \n",
            "3  60182  Female  49.0             0              0          Yes   \n",
            "4   1665  Female  79.0             1              0          Yes   \n",
            "\n",
            "       work_type Residence_type  avg_glucose_level   bmi   smoking_status  \\\n",
            "0        Private          Urban             228.69  36.6  formerly smoked   \n",
            "1  Self-employed          Rural             202.21   NaN     never smoked   \n",
            "2        Private          Rural             105.92  32.5     never smoked   \n",
            "3        Private          Urban             171.23  34.4           smokes   \n",
            "4  Self-employed          Rural             174.12  24.0     never smoked   \n",
            "\n",
            "   stroke  \n",
            "0       1  \n",
            "1       1  \n",
            "2       1  \n",
            "3       1  \n",
            "4       1   \n",
            "\n",
            "Shape/Data in dataframe: \n",
            "          id  gender   age  hypertension  heart_disease ever_married  \\\n",
            "0      9046    Male  67.0             0              1          Yes   \n",
            "1     51676  Female  61.0             0              0          Yes   \n",
            "2     31112    Male  80.0             0              1          Yes   \n",
            "3     60182  Female  49.0             0              0          Yes   \n",
            "4      1665  Female  79.0             1              0          Yes   \n",
            "...     ...     ...   ...           ...            ...          ...   \n",
            "5105  18234  Female  80.0             1              0          Yes   \n",
            "5106  44873  Female  81.0             0              0          Yes   \n",
            "5107  19723  Female  35.0             0              0          Yes   \n",
            "5108  37544    Male  51.0             0              0          Yes   \n",
            "5109  44679  Female  44.0             0              0          Yes   \n",
            "\n",
            "          work_type Residence_type  avg_glucose_level   bmi   smoking_status  \\\n",
            "0           Private          Urban             228.69  36.6  formerly smoked   \n",
            "1     Self-employed          Rural             202.21   NaN     never smoked   \n",
            "2           Private          Rural             105.92  32.5     never smoked   \n",
            "3           Private          Urban             171.23  34.4           smokes   \n",
            "4     Self-employed          Rural             174.12  24.0     never smoked   \n",
            "...             ...            ...                ...   ...              ...   \n",
            "5105        Private          Urban              83.75   NaN     never smoked   \n",
            "5106  Self-employed          Urban             125.20  40.0     never smoked   \n",
            "5107  Self-employed          Rural              82.99  30.6     never smoked   \n",
            "5108        Private          Rural             166.29  25.6  formerly smoked   \n",
            "5109       Govt_job          Urban              85.28  26.2          Unknown   \n",
            "\n",
            "      stroke  \n",
            "0          1  \n",
            "1          1  \n",
            "2          1  \n",
            "3          1  \n",
            "4          1  \n",
            "...      ...  \n",
            "5105       0  \n",
            "5106       0  \n",
            "5107       0  \n",
            "5108       0  \n",
            "5109       0  \n",
            "\n",
            "[5110 rows x 12 columns]\n"
          ]
        }
      ],
      "source": [
        "#2.2 - Load Dataset\n",
        "df = pd.read_csv('/content/healthcare-dataset-stroke-data.csv')\n",
        "\n",
        "print(\"Data Types: \\n\",df.dtypes,\"\\n\")\n",
        "print(df.info(), \"\\n\")\n",
        "print(\"Head Records: \\n\",df.head(),\"\\n\")\n",
        "print(\"Shape/Data in dataframe: \\n\",df)"
      ]
    },
    {
      "cell_type": "code",
      "execution_count": 4,
      "metadata": {
        "colab": {
          "base_uri": "https://localhost:8080/"
        },
        "id": "UX5njNpNWGd6",
        "outputId": "8d66a70f-e2b4-4344-821d-ff58e2e59dde"
      },
      "outputs": [
        {
          "output_type": "execute_result",
          "data": {
            "text/plain": [
              "0    4861\n",
              "1     249\n",
              "Name: stroke, dtype: int64"
            ]
          },
          "metadata": {},
          "execution_count": 4
        }
      ],
      "source": [
        "df[\"stroke\"].value_counts()"
      ]
    },
    {
      "cell_type": "code",
      "execution_count": 5,
      "metadata": {
        "colab": {
          "base_uri": "https://localhost:8080/"
        },
        "id": "qLGD2IRdWo9l",
        "outputId": "d1173dab-c767-47c1-e692-588ea062330e"
      },
      "outputs": [
        {
          "output_type": "stream",
          "name": "stdout",
          "text": [
            "<class 'pandas.core.frame.DataFrame'>\n",
            "RangeIndex: 5110 entries, 0 to 5109\n",
            "Data columns (total 12 columns):\n",
            " #   Column             Non-Null Count  Dtype  \n",
            "---  ------             --------------  -----  \n",
            " 0   id                 5110 non-null   int64  \n",
            " 1   gender             5110 non-null   object \n",
            " 2   age                5110 non-null   float64\n",
            " 3   hypertension       5110 non-null   int64  \n",
            " 4   heart_disease      5110 non-null   int64  \n",
            " 5   ever_married       5110 non-null   object \n",
            " 6   work_type          5110 non-null   object \n",
            " 7   Residence_type     5110 non-null   object \n",
            " 8   avg_glucose_level  5110 non-null   float64\n",
            " 9   bmi                4909 non-null   float64\n",
            " 10  smoking_status     5110 non-null   object \n",
            " 11  stroke             5110 non-null   int64  \n",
            "dtypes: float64(3), int64(4), object(5)\n",
            "memory usage: 479.2+ KB\n"
          ]
        }
      ],
      "source": [
        "df.info()"
      ]
    },
    {
      "cell_type": "code",
      "execution_count": 6,
      "metadata": {
        "colab": {
          "base_uri": "https://localhost:8080/"
        },
        "id": "Hsa9M9utX3UK",
        "outputId": "a3600eb7-15db-408a-cb5c-73de472a35e8"
      },
      "outputs": [
        {
          "output_type": "stream",
          "name": "stdout",
          "text": [
            "id                   0.000000\n",
            "gender               0.000000\n",
            "age                  0.000000\n",
            "hypertension         0.000000\n",
            "heart_disease        0.000000\n",
            "ever_married         0.000000\n",
            "work_type            0.000000\n",
            "Residence_type       0.000000\n",
            "avg_glucose_level    0.000000\n",
            "bmi                  3.933464\n",
            "smoking_status       0.000000\n",
            "stroke               0.000000\n",
            "dtype: float64\n",
            "# Missing values in variable bmi\t\t: 3.93%\n",
            "# Missing values in variable smoking_status\t: 0.00%\n",
            "Data shape: (5110, 12)\n"
          ]
        }
      ],
      "source": [
        "miss_val = df.isnull().sum()/len(df)*100\n",
        "print(miss_val)\n",
        "print(\"# Missing values in variable bmi\\t\\t: {:.2f}%\".format(miss_val['bmi']))\n",
        "print(\"# Missing values in variable smoking_status\\t: {:.2f}%\".format(miss_val['smoking_status']))\n",
        "print(\"Data shape: {}\".format(df.shape))"
      ]
    },
    {
      "cell_type": "markdown",
      "metadata": {
        "id": "66g8vNuoFrXP"
      },
      "source": [
        "### Handing Missing Values"
      ]
    },
    {
      "cell_type": "code",
      "execution_count": 7,
      "metadata": {
        "colab": {
          "base_uri": "https://localhost:8080/"
        },
        "id": "_k3jis-WYjNL",
        "outputId": "93ef8e76-934c-4e92-e1df-f7c0e83001cf"
      },
      "outputs": [
        {
          "output_type": "stream",
          "name": "stdout",
          "text": [
            "gender               0.0\n",
            "age                  0.0\n",
            "hypertension         0.0\n",
            "heart_disease        0.0\n",
            "ever_married         0.0\n",
            "work_type            0.0\n",
            "Residence_type       0.0\n",
            "avg_glucose_level    0.0\n",
            "bmi                  0.0\n",
            "smoking_status       0.0\n",
            "stroke               0.0\n",
            "dtype: float64\n",
            "# Missing values in variable 'bmi'\t\t: 0.0\n",
            "# Missing values in variable 'smoking_status'\t: 0.0\n",
            "Shape of data without missing values: (5110, 11)\n"
          ]
        }
      ],
      "source": [
        "# Handling Missing Values\n",
        "# Safely disable new warning with the chained assignment.\n",
        "pd.options.mode.chained_assignment = None  # default='warn'\n",
        "# replace missing values in variable 'bmi' with its mean\n",
        "df['bmi']=df['bmi'].fillna(df['bmi'].mean())\n",
        "# remove (drop) data associated with missing values in variable 'smoking_status'\n",
        "clean_data = df[df['smoking_status'].notnull()]\n",
        "# drop variable 'id'\n",
        "clean_data.drop(columns='id',axis=1,inplace=True)\n",
        "# validate there's no more missing values\n",
        "miss_val = clean_data.isnull().sum()/len(clean_data)*100\n",
        "print(miss_val)\n",
        "print(\"# Missing values in variable 'bmi'\\t\\t: {}\".format(miss_val['bmi']))\n",
        "print(\"# Missing values in variable 'smoking_status'\\t: {}\".format(miss_val['smoking_status']))\n",
        "print(\"Shape of data without missing values: {}\".format(clean_data.shape))"
      ]
    },
    {
      "cell_type": "markdown",
      "metadata": {
        "id": "02cGAt3JY0P2"
      },
      "source": [
        "### Changing Category to Numerical Values\n",
        "\n",
        "Since some variables are categorical, we have to convert them into numerical variables."
      ]
    },
    {
      "cell_type": "code",
      "execution_count": 8,
      "metadata": {
        "colab": {
          "base_uri": "https://localhost:8080/"
        },
        "id": "V6glyJBEYzTB",
        "outputId": "e576b01a-af4d-4b2f-bf2c-43a68f99b0fb"
      },
      "outputs": [
        {
          "output_type": "stream",
          "name": "stdout",
          "text": [
            "Unique 'gender': ['Male' 'Female' 'Other']\n",
            "Unique 'ever_married': ['Yes' 'No']\n",
            "Unique 'work_type': ['Private' 'Self-employed' 'Govt_job' 'children' 'Never_worked']\n",
            "Unique 'Residence_type': ['Urban' 'Rural']\n",
            "Unique 'smoking_status': ['formerly smoked' 'never smoked' 'smokes' 'Unknown']\n"
          ]
        }
      ],
      "source": [
        "print(\"Unique 'gender': {}\".format(clean_data['gender'].unique()))\n",
        "print(\"Unique 'ever_married': {}\".format(clean_data['ever_married'].unique()))\n",
        "print(\"Unique 'work_type': {}\".format(clean_data['work_type'].unique()))\n",
        "print(\"Unique 'Residence_type': {}\".format(clean_data['Residence_type'].unique()))\n",
        "print(\"Unique 'smoking_status': {}\".format(clean_data['smoking_status'].unique()))"
      ]
    },
    {
      "cell_type": "code",
      "execution_count": 9,
      "metadata": {
        "id": "HthY-5yGY8nA"
      },
      "outputs": [],
      "source": [
        "# create encoder for each categorical variable\n",
        "label_gender = LabelEncoder()\n",
        "label_married = LabelEncoder()\n",
        "label_work = LabelEncoder()\n",
        "label_residence = LabelEncoder()\n",
        "label_smoking = LabelEncoder()"
      ]
    },
    {
      "cell_type": "code",
      "execution_count": 10,
      "metadata": {
        "colab": {
          "base_uri": "https://localhost:8080/"
        },
        "id": "40OA0vQbY-pV",
        "outputId": "0c9d5532-1a7c-4acb-ee2e-020bc056c931"
      },
      "outputs": [
        {
          "output_type": "stream",
          "name": "stdout",
          "text": [
            "   gender   age  hypertension  heart_disease  ever_married  work_type  Residence_type  avg_glucose_level        bmi  smoking_status  stroke\n",
            "0       1  67.0             0              1             1          2               1             228.69  36.600000               1       1\n",
            "1       0  61.0             0              0             1          3               0             202.21  28.893237               2       1\n",
            "2       1  80.0             0              1             1          2               0             105.92  32.500000               2       1\n",
            "3       0  49.0             0              0             1          2               1             171.23  34.400000               3       1\n",
            "4       0  79.0             1              0             1          3               0             174.12  24.000000               2       1\n"
          ]
        }
      ],
      "source": [
        "clean_data['gender'] = label_gender.fit_transform(clean_data['gender'])\n",
        "clean_data['ever_married'] = label_married.fit_transform(clean_data['ever_married'])\n",
        "clean_data['work_type']= label_work.fit_transform(clean_data['work_type'])\n",
        "clean_data['Residence_type']= label_residence.fit_transform(clean_data['Residence_type'])\n",
        "clean_data['smoking_status']= label_smoking.fit_transform(clean_data['smoking_status'])\n",
        "with pd.option_context('expand_frame_repr', False):\n",
        "    print(clean_data.head())"
      ]
    },
    {
      "cell_type": "markdown",
      "metadata": {
        "id": "vmOEIP9RZC54"
      },
      "source": [
        "Inter-feature Correlation\n",
        "\n",
        "It is sometimes useful to measure the inter-feature correlation. If we find that a feature is highly correlated with the class (target), it could be an indication that this feature is informative about the class. In addition, if a feature is highly correlated with other features, we could remove one of them thus reducing the complexity while potentially improving the model's learning."
      ]
    },
    {
      "cell_type": "code",
      "execution_count": 11,
      "metadata": {
        "id": "mCwXgmBUZKPN"
      },
      "outputs": [],
      "source": [
        "import matplotlib.pyplot as plt\n",
        "from sklearn.preprocessing import LabelEncoder, StandardScaler\n",
        "from sklearn.model_selection import train_test_split"
      ]
    },
    {
      "cell_type": "code",
      "execution_count": null,
      "metadata": {
        "id": "5kjAWqo-dKH1"
      },
      "outputs": [],
      "source": [
        "\n",
        "from sklearn.model_selection import train_test_split\n",
        "from sklearn.metrics import confusion_matrix"
      ]
    },
    {
      "cell_type": "code",
      "execution_count": null,
      "metadata": {
        "colab": {
          "base_uri": "https://localhost:8080/",
          "height": 607
        },
        "id": "9A4Rk1dEZDh0",
        "outputId": "fa1e88bd-7e9e-4cf4-be9b-fe1198543d4f"
      },
      "outputs": [
        {
          "data": {
            "image/png": "[encoded data removed]",
            "text/plain": [
              "<Figure size 800x600 with 2 Axes>"
            ]
          },
          "metadata": {},
          "output_type": "display_data"
        }
      ],
      "source": [
        "fig, ax = plt.subplots(figsize=(8,6))\n",
        "im = ax.matshow(clean_data.corr())\n",
        "ax.set_xticks(np.arange(clean_data.shape[1]))\n",
        "ax.set_yticks(np.arange(clean_data.shape[1]))\n",
        "ax.set_xticklabels(clean_data.columns,rotation=90)\n",
        "ax.set_yticklabels(clean_data.columns)\n",
        "# Create colorbar\n",
        "cbar = ax.figure.colorbar(im, ax=ax)\n",
        "cbar.ax.set_ylabel(\"Correlation\", rotation=-90, va=\"bottom\", fontsize=12)\n",
        "fig.tight_layout()\n",
        "plt.show()"
      ]
    },
    {
      "cell_type": "markdown",
      "metadata": {
        "id": "99vnuFvoS_Uf"
      },
      "source": [
        "#Class (Target) Distribution\n",
        "\n",
        "Now, let's take a look at the distribution of class (target). If the class is highly imbalanced, we have to solve this issue so that our model will not be biased towards the majority class."
      ]
    },
    {
      "cell_type": "code",
      "execution_count": null,
      "metadata": {
        "colab": {
          "base_uri": "https://localhost:8080/",
          "height": 464
        },
        "id": "LNbcY-oLTA3z",
        "outputId": "811edc34-bd25-4a49-c9ae-e9cc0cf3c7e0"
      },
      "outputs": [
        {
          "data": {
            "image/png": "[encoded data removed]",
            "text/plain": [
              "<Figure size 640x480 with 1 Axes>"
            ]
          },
          "metadata": {},
          "output_type": "display_data"
        },
        {
          "name": "stdout",
          "output_type": "stream",
          "text": [
            "# samples associated with no stroke: 4861\n",
            "# samples associated with stroke: 249\n"
          ]
        }
      ],
      "source": [
        "class_occur = clean_data['stroke'].value_counts()\n",
        "class_names = ['No Stroke','Stroke']\n",
        "fig, ax = plt.subplots()\n",
        "ax.pie(class_occur, labels=class_names, autopct='%1.2f%%',\n",
        "        shadow=True, startangle=0, counterclock=False)\n",
        "ax.axis('equal')  # Equal aspect ratio ensures that pie is drawn as a circle.\n",
        "ax.set_title('Class distribution')\n",
        "plt.show()\n",
        "print(\"# samples associated with no stroke: {}\".format(class_occur[0]))\n",
        "print(\"# samples associated with stroke: {}\".format(class_occur[1]))"
      ]
    },
    {
      "cell_type": "markdown",
      "metadata": {
        "id": "sw6sioXnTG96"
      },
      "source": [
        "# **Data Preprocessing:**\n",
        "### **Handle Imbalanced Class:***\n",
        "\n",
        "There are several techniques that can be used to handle highly imbalanced class. This article nicely summarises those different techniques. In this notebook, we are going to use one of oversampling technique called Synthetic Minority Oversampling Technique (SMOTE), by synthesising new samples from the minority class to have the same number of samples as the majority class (illustrated in figure below). Oversampling technique is chosen because we do not want to loose significant amount of information (97.88%) as if we use undersampling technique."
      ]
    },
    {
      "cell_type": "code",
      "execution_count": null,
      "metadata": {
        "colab": {
          "base_uri": "https://localhost:8080/",
          "height": 393
        },
        "id": "OdC57iKjWhPQ",
        "outputId": "e37c1454-eda6-407c-e0c1-a0138676d132"
      },
      "outputs": [
        {
          "data": {
            "image/png": "[encoded data removed]",
            "text/plain": [
              "<Figure size 640x480 with 1 Axes>"
            ]
          },
          "metadata": {},
          "output_type": "display_data"
        }
      ],
      "source": [
        "from PIL import Image\n",
        "import matplotlib.pyplot as plt\n",
        "\n",
        "# Load the image\n",
        "image_path = \"/content/sampled.png\"\n",
        "image = Image.open(image_path)\n",
        "\n",
        "# Display the image\n",
        "plt.imshow(image)\n",
        "plt.axis('off')\n",
        "plt.show()"
      ]
    },
    {
      "cell_type": "markdown",
      "metadata": {
        "id": "_LIHBRu3F1PO"
      },
      "source": [
        "## Re-Sampling Dataset"
      ]
    },
    {
      "cell_type": "code",
      "execution_count": 12,
      "metadata": {
        "colab": {
          "base_uri": "https://localhost:8080/"
        },
        "id": "6K60IrSapi1_",
        "outputId": "01ce22ae-f9bd-4577-9557-ed3e62d3db60"
      },
      "outputs": [
        {
          "output_type": "execute_result",
          "data": {
            "text/plain": [
              "0    4861\n",
              "1    4861\n",
              "Name: stroke, dtype: int64"
            ]
          },
          "metadata": {},
          "execution_count": 12
        }
      ],
      "source": [
        "x = clean_data[clean_data[\"stroke\"] == 1]\n",
        "y = clean_data[clean_data[\"stroke\"] == 0]\n",
        "\n",
        "# upsample minority\n",
        "stroke_upsampled = resample(x,\n",
        "                          replace=True, # sample with replacement\n",
        "                          n_samples=len(y), # match number in majority class\n",
        "                          random_state=27) # reproducible results\n",
        "\n",
        "# combine majority and upsampled minority\n",
        "upsampled = pd.concat([y, stroke_upsampled])\n",
        "\n",
        "# check new class counts\n",
        "upsampled[\"stroke\"].value_counts()"
      ]
    },
    {
      "cell_type": "code",
      "execution_count": null,
      "metadata": {
        "colab": {
          "base_uri": "https://localhost:8080/",
          "height": 464
        },
        "id": "lTCZWqI9dfp7",
        "outputId": "b50c78c4-0bf6-4046-a936-8d48542cd17b"
      },
      "outputs": [
        {
          "data": {
            "image/png": "[encoded data removed]",
            "text/plain": [
              "<Figure size 640x480 with 1 Axes>"
            ]
          },
          "metadata": {},
          "output_type": "display_data"
        },
        {
          "name": "stdout",
          "output_type": "stream",
          "text": [
            "# samples associated with no stroke: 4861\n",
            "# samples associated with stroke: 4861\n"
          ]
        }
      ],
      "source": [
        "_, class_counts = np.unique(y, return_counts=True)\n",
        "class_names = ['No stroke', 'Stroke']\n",
        "fig, ax = plt.subplots()\n",
        "ax.pie(class_counts, labels=class_names, autopct='%1.2f%%',\n",
        "        shadow=True, startangle=90, counterclock=False)\n",
        "ax.axis('equal')  # Equal aspect ratio ensures that pie is drawn as a circle.\n",
        "ax.set_title('Class distribution')\n",
        "plt.show()\n",
        "print(\"# samples associated with no stroke: {}\".format(class_counts[0]))\n",
        "print(\"# samples associated with stroke: {}\".format(class_counts[1]))"
      ]
    },
    {
      "cell_type": "code",
      "execution_count": 13,
      "metadata": {
        "id": "nCiCJSqnNrWc"
      },
      "outputs": [],
      "source": [
        "#2.3.1 - Split data into input/output elements\n",
        "datasetA = clean_data.values\n",
        "x, y = datasetA[:,:-1], datasetA[:,-1]\n",
        "\n",
        "\n",
        "#2.3.2 - Minimally prepare dataset\n",
        "x = x.astype('float32')\n",
        "y = LabelEncoder().fit_transform(y.astype('str')) #converting the target to string"
      ]
    },
    {
      "cell_type": "code",
      "execution_count": 14,
      "metadata": {
        "colab": {
          "base_uri": "https://localhost:8080/"
        },
        "id": "ipP3PZvrOUIj",
        "outputId": "2eb0de1e-bb40-426b-9953-fb6e2509d416"
      },
      "outputs": [
        {
          "output_type": "stream",
          "name": "stdout",
          "text": [
            "x Train:  (3423, 10)\n",
            "y Train:  (3423,)\n",
            "x Test:  (1687, 10)\n",
            "y Test:  (1687,)\n"
          ]
        }
      ],
      "source": [
        "#2.4 - Split into train and test sets\n",
        "x_train, x_test, y_train, y_test = train_test_split(x,y,test_size=0.33, random_state=1)\n",
        "print(\"x Train: \", x_train.shape)\n",
        "print(\"y Train: \", y_train.shape)\n",
        "print(\"x Test: \", x_test.shape)\n",
        "print(\"y Test: \", y_test.shape)"
      ]
    },
    {
      "cell_type": "markdown",
      "metadata": {
        "id": "NOb_oHzaQca6"
      },
      "source": [
        "# **Hyperparameter Tuning**"
      ]
    },
    {
      "cell_type": "markdown",
      "metadata": {
        "id": "yN0mLwSQitL6"
      },
      "source": [
        "<p align=\"justify\"> In the provided code, we've meticulously defined search spaces for hyperparameter optimization of several machine learning classifiers using the Hyperopt library, a powerful tool for automating the search for optimal model configurations. This approach is highly relevant to the domain of stroke classification, where achieving accurate predictions is of utmost importance. By crafting specific search spaces for each classifier, we're essentially exploring a wide range of hyperparameter combinations that can significantly impact the performance of the classification models.\n",
        "\n",
        "<p align=\"justify\"> For instance, when considering the **GradientBoostingClassifier**, we're searching for the best learning rate, the number of estimators (trees), the maximum depth of each tree, the subsample ratio, and the minimum number of samples required to split a node. These hyperparameters are vital in shaping the model's ability to capture complex relationships within the stroke dataset. An optimal learning rate and tree count ensure a balanced trade-off between model complexity and training speed, while controlling the depth and sample splits helps prevent overfitting and enhance generalization, crucial for stroke prediction.\n",
        "\n",
        "Similarly, for the **RandomForestClassifier**, the focus lies on tuning the number of trees, the maximum depth, and the minimum samples required for splits. These parameters influence the model's robustness, ensuring the collective decision-making power of multiple trees, and fine-tuning depth and sample splits to enhance the model's performance on stroke prediction by preventing it from becoming overly complex.\n",
        "\n",
        "The **K-nearest Neighbors classifier** explores the number of neighbors and the type of distance weighting to determine the relevance of neighboring instances for classifying stroke risk.\n",
        "\n",
        "<p align=\"justify\"> Lastly, the **Decision Trees** search space examines the maximum tree depth and minimum samples required for splitting internal nodes, influencing the decision tree's ability to discern key features for stroke prediction.\n",
        "\n",
        "<p align=\"justify\"> In the context of stroke classification, these defined search spaces allow us to automatically explore a broad spectrum of hyperparameter configurations for each classifier, optimizing the model's ability to identify individuals at risk of stroke. The ultimate goal is to discover the combination of hyperparameters that leads to the highest accuracy and robustness in predicting stroke occurrences. This systematic approach to hyperparameter tuning aligns with the critical task of stroke prediction, where precision can have profound implications for patient care and outcomes."
      ]
    },
    {
      "cell_type": "markdown",
      "metadata": {
        "id": "NSO6jka5TbRF"
      },
      "source": [
        "**Random_forest_classifier:**"
      ]
    },
    {
      "cell_type": "code",
      "execution_count": null,
      "metadata": {
        "id": "K2JqyruNGRtw"
      },
      "outputs": [],
      "source": [
        "# - Define Random Forest Model/Search\n",
        "hpsk_model1 = HyperoptEstimator(classifier=random_forest_classifier('rf'),preprocessing=any_preprocessing('pre'),algo=tpe.suggest,max_evals=50,trial_timeout=30)"
      ]
    },
    {
      "cell_type": "code",
      "execution_count": null,
      "metadata": {
        "colab": {
          "base_uri": "https://localhost:8080/"
        },
        "id": "qFKF8vuWGhTe",
        "outputId": "50491e64-ba82-461d-c2ec-5019bae1a0b2"
      },
      "outputs": [
        {
          "name": "stdout",
          "output_type": "stream",
          "text": [
            "100%|██████████| 1/1 [00:07<00:00,  7.47s/trial, best loss: 0.05401459854014601]\n",
            "100%|██████████| 2/2 [00:00<00:00,  1.81trial/s, best loss: 0.05401459854014601]\n",
            "100%|██████████| 3/3 [00:00<00:00,  6.57trial/s, best loss: 0.05401459854014601]\n",
            "100%|██████████| 4/4 [00:00<00:00,  1.53trial/s, best loss: 0.05401459854014601]\n",
            "100%|██████████| 5/5 [00:13<00:00, 13.78s/trial, best loss: 0.05401459854014601]\n",
            "100%|██████████| 6/6 [00:21<00:00, 21.35s/trial, best loss: 0.052554744525547425]\n",
            "100%|██████████| 7/7 [00:00<00:00,  1.65trial/s, best loss: 0.052554744525547425]\n",
            "100%|██████████| 8/8 [00:03<00:00,  3.69s/trial, best loss: 0.052554744525547425]\n",
            "100%|██████████| 9/9 [00:04<00:00,  4.12s/trial, best loss: 0.052554744525547425]\n",
            "100%|██████████| 10/10 [00:01<00:00,  1.54s/trial, best loss: 0.052554744525547425]\n",
            "100%|██████████| 11/11 [00:03<00:00,  3.00s/trial, best loss: 0.052554744525547425]\n",
            "100%|██████████| 12/12 [00:00<00:00,  4.11trial/s, best loss: 0.052554744525547425]\n",
            "100%|██████████| 13/13 [00:00<00:00,  1.64trial/s, best loss: 0.052554744525547425]\n",
            "100%|██████████| 14/14 [00:03<00:00,  3.38s/trial, best loss: 0.052554744525547425]\n",
            "100%|██████████| 15/15 [00:00<00:00,  4.88trial/s, best loss: 0.052554744525547425]\n",
            "100%|██████████| 16/16 [00:00<00:00,  2.97trial/s, best loss: 0.052554744525547425]\n",
            "100%|██████████| 17/17 [00:00<00:00,  9.40trial/s, best loss: 0.052554744525547425]\n",
            "100%|██████████| 18/18 [00:08<00:00,  8.51s/trial, best loss: 0.052554744525547425]\n",
            "100%|██████████| 19/19 [00:00<00:00,  3.36trial/s, best loss: 0.052554744525547425]\n",
            "100%|██████████| 20/20 [00:00<00:00,  9.03trial/s, best loss: 0.052554744525547425]\n",
            "100%|██████████| 21/21 [00:01<00:00,  1.94s/trial, best loss: 0.052554744525547425]\n",
            "100%|██████████| 22/22 [00:16<00:00, 16.23s/trial, best loss: 0.052554744525547425]\n",
            "100%|██████████| 23/23 [00:01<00:00,  1.01s/trial, best loss: 0.052554744525547425]\n",
            "100%|██████████| 24/24 [00:00<00:00,  2.55trial/s, best loss: 0.052554744525547425]\n",
            "100%|██████████| 25/25 [00:02<00:00,  2.71s/trial, best loss: 0.052554744525547425]\n",
            "100%|██████████| 26/26 [00:07<00:00,  7.20s/trial, best loss: 0.052554744525547425]\n",
            "100%|██████████| 27/27 [00:04<00:00,  4.34s/trial, best loss: 0.052554744525547425]\n",
            "100%|██████████| 28/28 [00:02<00:00,  2.09s/trial, best loss: 0.052554744525547425]\n",
            "100%|██████████| 29/29 [00:15<00:00, 15.16s/trial, best loss: 0.052554744525547425]\n",
            "100%|██████████| 30/30 [00:17<00:00, 17.68s/trial, best loss: 0.052554744525547425]\n",
            "100%|██████████| 31/31 [00:25<00:00, 25.46s/trial, best loss: 0.052554744525547425]\n",
            "100%|██████████| 32/32 [00:07<00:00,  7.70s/trial, best loss: 0.052554744525547425]\n",
            "100%|██████████| 33/33 [00:14<00:00, 14.99s/trial, best loss: 0.052554744525547425]\n",
            "100%|██████████| 34/34 [00:01<00:00,  1.29s/trial, best loss: 0.052554744525547425]\n",
            "100%|██████████| 35/35 [00:00<00:00,  1.72trial/s, best loss: 0.052554744525547425]\n",
            "100%|██████████| 36/36 [00:17<00:00, 17.16s/trial, best loss: 0.052554744525547425]\n",
            "100%|██████████| 37/37 [00:05<00:00,  5.06s/trial, best loss: 0.052554744525547425]\n",
            "100%|██████████| 38/38 [00:26<00:00, 26.55s/trial, best loss: 0.052554744525547425]\n",
            "100%|██████████| 39/39 [00:01<00:00,  1.22s/trial, best loss: 0.052554744525547425]\n",
            "100%|██████████| 40/40 [00:17<00:00, 17.87s/trial, best loss: 0.052554744525547425]\n",
            "100%|██████████| 41/41 [00:09<00:00,  9.23s/trial, best loss: 0.052554744525547425]\n",
            "100%|██████████| 42/42 [00:02<00:00,  2.16s/trial, best loss: 0.052554744525547425]\n",
            "100%|██████████| 43/43 [00:00<00:00,  2.40trial/s, best loss: 0.052554744525547425]\n",
            "100%|██████████| 44/44 [00:00<00:00,  9.08trial/s, best loss: 0.052554744525547425]\n",
            "100%|██████████| 45/45 [00:01<00:00,  1.91s/trial, best loss: 0.052554744525547425]\n",
            "100%|██████████| 46/46 [00:15<00:00, 15.57s/trial, best loss: 0.052554744525547425]\n",
            "100%|██████████| 47/47 [00:08<00:00,  8.11s/trial, best loss: 0.052554744525547425]\n",
            "100%|██████████| 48/48 [00:00<00:00,  1.35trial/s, best loss: 0.052554744525547425]\n",
            "100%|██████████| 49/49 [00:02<00:00,  2.19s/trial, best loss: 0.052554744525547425]\n",
            "100%|██████████| 50/50 [00:00<00:00,  3.66trial/s, best loss: 0.052554744525547425]\n"
          ]
        }
      ],
      "source": [
        "# Fit Random Forest data into Model\n",
        "hpsk_model1.fit(x_train,y_train)"
      ]
    },
    {
      "cell_type": "code",
      "execution_count": null,
      "metadata": {
        "colab": {
          "base_uri": "https://localhost:8080/"
        },
        "id": "w9Yuh33YGuJ-",
        "outputId": "bd8a5a2f-276f-4072-bd8c-54b947827e2f"
      },
      "outputs": [
        {
          "name": "stdout",
          "output_type": "stream",
          "text": [
            "Accuracy: 0.945\n"
          ]
        }
      ],
      "source": [
        "# Summarize Random Forest Performance\n",
        "acc1 = hpsk_model1.score(x_test,y_test)\n",
        "print(\"Accuracy: %.3f\" % acc1)"
      ]
    },
    {
      "cell_type": "code",
      "execution_count": null,
      "metadata": {
        "colab": {
          "base_uri": "https://localhost:8080/"
        },
        "id": "UeM_HBe2HudS",
        "outputId": "452b04d4-13a8-4943-f65c-87b734ee9d12"
      },
      "outputs": [
        {
          "name": "stdout",
          "output_type": "stream",
          "text": [
            "{'learner': RandomForestClassifier(class_weight='balanced', criterion='entropy',\n",
            "                       n_estimators=2543, n_jobs=1, random_state=2,\n",
            "                       verbose=False), 'preprocs': (Normalizer(norm='max'),), 'ex_preprocs': ()}\n"
          ]
        }
      ],
      "source": [
        "# Summarize the best model for Random Forest\n",
        "print(hpsk_model1.best_model())"
      ]
    },
    {
      "cell_type": "markdown",
      "metadata": {
        "id": "N2AU4BkNIc3t"
      },
      "source": [
        "**Extra-Trees**"
      ]
    },
    {
      "cell_type": "code",
      "execution_count": null,
      "metadata": {
        "id": "51PPaZT8Ibe-"
      },
      "outputs": [],
      "source": [
        "# - Define Extra-Trees Model/Search\n",
        "hpsk_model2 = HyperoptEstimator(classifier=extra_trees_classifier('extra'),preprocessing=any_preprocessing('pre'),algo=tpe.suggest,max_evals=50,trial_timeout=30)"
      ]
    },
    {
      "cell_type": "code",
      "execution_count": null,
      "metadata": {
        "colab": {
          "base_uri": "https://localhost:8080/"
        },
        "id": "I4c3ep9YLA8y",
        "outputId": "16afe6d4-cfc5-46ef-90d4-2f7cf3abbcb9"
      },
      "outputs": [
        {
          "name": "stdout",
          "output_type": "stream",
          "text": [
            "100%|██████████| 1/1 [00:01<00:00,  1.13s/trial, best loss: 0.05401459854014601]\n",
            "100%|██████████| 2/2 [00:00<00:00,  1.03trial/s, best loss: 0.052554744525547425]\n",
            "100%|██████████| 3/3 [00:00<00:00,  2.06trial/s, best loss: 0.052554744525547425]\n",
            "100%|██████████| 4/4 [00:10<00:00, 10.12s/trial, best loss: 0.052554744525547425]\n",
            "100%|██████████| 5/5 [00:00<00:00,  1.16trial/s, best loss: 0.052554744525547425]\n",
            "100%|██████████| 6/6 [00:00<00:00,  6.10trial/s, best loss: 0.052554744525547425]\n",
            "100%|██████████| 7/7 [00:00<00:00,  2.17trial/s, best loss: 0.052554744525547425]\n",
            "100%|██████████| 8/8 [00:00<00:00,  1.45trial/s, best loss: 0.052554744525547425]\n",
            "100%|██████████| 9/9 [00:04<00:00,  4.43s/trial, best loss: 0.052554744525547425]\n",
            "100%|██████████| 10/10 [00:10<00:00, 10.87s/trial, best loss: 0.051094890510948954]\n",
            "100%|██████████| 11/11 [00:00<00:00,  2.44trial/s, best loss: 0.051094890510948954]\n",
            "100%|██████████| 12/12 [00:00<00:00,  6.37trial/s, best loss: 0.051094890510948954]\n",
            "100%|██████████| 13/13 [00:00<00:00,  4.86trial/s, best loss: 0.051094890510948954]\n",
            "100%|██████████| 14/14 [00:05<00:00,  5.76s/trial, best loss: 0.051094890510948954]\n",
            "100%|██████████| 15/15 [00:00<00:00,  9.73trial/s, best loss: 0.051094890510948954]\n",
            "100%|██████████| 16/16 [00:00<00:00,  5.37trial/s, best loss: 0.051094890510948954]\n",
            "100%|██████████| 17/17 [00:00<00:00,  1.39trial/s, best loss: 0.051094890510948954]\n",
            "100%|██████████| 18/18 [00:01<00:00,  1.03s/trial, best loss: 0.051094890510948954]\n",
            "100%|██████████| 19/19 [00:03<00:00,  3.17s/trial, best loss: 0.051094890510948954]\n",
            "100%|██████████| 20/20 [00:00<00:00,  3.11trial/s, best loss: 0.051094890510948954]\n",
            "100%|██████████| 21/21 [00:00<00:00,  1.22trial/s, best loss: 0.051094890510948954]\n",
            "100%|██████████| 22/22 [00:00<00:00,  6.66trial/s, best loss: 0.051094890510948954]\n",
            "100%|██████████| 23/23 [00:00<00:00,  1.74trial/s, best loss: 0.051094890510948954]\n",
            "100%|██████████| 24/24 [00:03<00:00,  3.75s/trial, best loss: 0.051094890510948954]\n",
            "100%|██████████| 25/25 [00:01<00:00,  1.14s/trial, best loss: 0.051094890510948954]\n",
            "100%|██████████| 26/26 [00:00<00:00,  1.93trial/s, best loss: 0.051094890510948954]\n",
            "100%|██████████| 27/27 [00:00<00:00,  1.78trial/s, best loss: 0.051094890510948954]\n",
            "100%|██████████| 28/28 [00:00<00:00,  4.47trial/s, best loss: 0.051094890510948954]\n",
            "100%|██████████| 29/29 [00:00<00:00,  3.54trial/s, best loss: 0.051094890510948954]\n",
            "100%|██████████| 30/30 [00:02<00:00,  2.88s/trial, best loss: 0.051094890510948954]\n",
            "100%|██████████| 31/31 [00:00<00:00,  1.03trial/s, best loss: 0.051094890510948954]\n",
            "100%|██████████| 32/32 [00:10<00:00, 10.63s/trial, best loss: 0.051094890510948954]\n",
            "100%|██████████| 33/33 [00:11<00:00, 11.90s/trial, best loss: 0.051094890510948954]\n",
            "100%|██████████| 34/34 [00:11<00:00, 11.97s/trial, best loss: 0.051094890510948954]\n",
            "100%|██████████| 35/35 [00:03<00:00,  3.51s/trial, best loss: 0.051094890510948954]\n",
            "100%|██████████| 36/36 [00:04<00:00,  4.15s/trial, best loss: 0.051094890510948954]\n",
            "100%|██████████| 37/37 [00:06<00:00,  6.01s/trial, best loss: 0.051094890510948954]\n",
            "100%|██████████| 38/38 [00:02<00:00,  2.68s/trial, best loss: 0.051094890510948954]\n",
            "100%|██████████| 39/39 [00:03<00:00,  3.36s/trial, best loss: 0.051094890510948954]\n",
            "100%|██████████| 40/40 [00:02<00:00,  2.19s/trial, best loss: 0.051094890510948954]\n",
            "100%|██████████| 41/41 [00:02<00:00,  2.65s/trial, best loss: 0.051094890510948954]\n",
            "100%|██████████| 42/42 [00:05<00:00,  5.15s/trial, best loss: 0.051094890510948954]\n",
            "100%|██████████| 43/43 [00:01<00:00,  1.08s/trial, best loss: 0.051094890510948954]\n",
            "100%|██████████| 44/44 [00:00<00:00,  1.14trial/s, best loss: 0.051094890510948954]\n",
            "100%|██████████| 45/45 [00:03<00:00,  3.21s/trial, best loss: 0.051094890510948954]\n",
            "100%|██████████| 46/46 [00:00<00:00,  2.12trial/s, best loss: 0.051094890510948954]\n",
            "100%|██████████| 47/47 [00:01<00:00,  1.24s/trial, best loss: 0.051094890510948954]\n",
            "100%|██████████| 48/48 [00:04<00:00,  4.35s/trial, best loss: 0.051094890510948954]\n",
            "100%|██████████| 49/49 [00:05<00:00,  5.21s/trial, best loss: 0.051094890510948954]\n",
            "100%|██████████| 50/50 [00:06<00:00,  6.34s/trial, best loss: 0.051094890510948954]\n"
          ]
        }
      ],
      "source": [
        "# Fit Extra Trees data into Model\n",
        "hpsk_model2.fit(x_train,y_train)"
      ]
    },
    {
      "cell_type": "code",
      "execution_count": null,
      "metadata": {
        "colab": {
          "base_uri": "https://localhost:8080/"
        },
        "id": "tdxo9W5ELoly",
        "outputId": "90d96d98-f7a1-4517-e52d-a6c434afc63c"
      },
      "outputs": [
        {
          "name": "stdout",
          "output_type": "stream",
          "text": [
            "Accuracy: 0.945\n"
          ]
        }
      ],
      "source": [
        "# Summarize Extratrees Performance\n",
        "acc2 = hpsk_model2.score(x_test,y_test)\n",
        "print(\"Accuracy: %.3f\" % acc2)"
      ]
    },
    {
      "cell_type": "code",
      "execution_count": null,
      "metadata": {
        "colab": {
          "base_uri": "https://localhost:8080/"
        },
        "id": "mfNVcCnKOECb",
        "outputId": "9934ac3a-bdf8-4b30-ac51-683272868c20"
      },
      "outputs": [
        {
          "name": "stdout",
          "output_type": "stream",
          "text": [
            "{'learner': ExtraTreesClassifier(bootstrap=True, class_weight='balanced_subsample',\n",
            "                     criterion='entropy', max_features=0.7479132260776211,\n",
            "                     n_estimators=2508, n_jobs=1, random_state=2,\n",
            "                     verbose=False), 'preprocs': (Normalizer(norm='max'),), 'ex_preprocs': ()}\n"
          ]
        }
      ],
      "source": [
        "# Summarize the best model for Extratrees\n",
        "print(hpsk_model2.best_model())"
      ]
    },
    {
      "cell_type": "markdown",
      "metadata": {
        "id": "nwBIx8CvSQMC"
      },
      "source": [
        "**Boosting Classifier**"
      ]
    },
    {
      "cell_type": "code",
      "execution_count": 15,
      "metadata": {
        "id": "zCi6lSHonrAb"
      },
      "outputs": [],
      "source": [
        "# - Define Extra-Trees Model/Search\n",
        "hpsk_model3 = HyperoptEstimator(classifier=xgboost_classification('my_xgb'),preprocessing=any_preprocessing('pre'),algo=tpe.suggest,max_evals=50,trial_timeout=30)"
      ]
    },
    {
      "cell_type": "code",
      "execution_count": null,
      "metadata": {
        "id": "v7C6emMlRPq1"
      },
      "outputs": [],
      "source": [
        "# Instantiate a HyperoptEstimator with the search space and number of evaluations\n",
        "hpsk_model3 = HyperoptEstimator(classifier=xgboost_classification(\"my_xgb\"),\n",
        "                              preprocessing=[],\n",
        "                              algo=tpe.suggest,\n",
        "                              max_evals=10,\n",
        "                              trial_timeout=300)"
      ]
    },
    {
      "cell_type": "code",
      "execution_count": 16,
      "metadata": {
        "colab": {
          "base_uri": "https://localhost:8080/"
        },
        "id": "QPy1v1SxR8L5",
        "outputId": "db2d2474-ee1b-4a98-dfa1-b9b3a36254ff"
      },
      "outputs": [
        {
          "output_type": "stream",
          "name": "stdout",
          "text": [
            "\r  0%|          | 0/1 [00:00<?, ?trial/s, best loss=?]"
          ]
        },
        {
          "output_type": "stream",
          "name": "stderr",
          "text": [
            "/usr/local/lib/python3.10/dist-packages/xgboost/sklearn.py:1395: UserWarning: `use_label_encoder` is deprecated in 1.7.0.\n",
            "  warnings.warn(\"`use_label_encoder` is deprecated in 1.7.0.\")\n",
            "\n"
          ]
        },
        {
          "output_type": "stream",
          "name": "stdout",
          "text": [
            "100%|██████████| 1/1 [00:02<00:00,  2.85s/trial, best loss: 0.05401459854014601]\n",
            "100%|██████████| 2/2 [00:01<00:00,  1.42s/trial, best loss: 0.05401459854014601]\n",
            "100%|██████████| 3/3 [00:02<00:00,  2.27s/trial, best loss: 0.05401459854014601]\n",
            "100%|██████████| 4/4 [00:00<00:00,  2.84trial/s, best loss: 0.05401459854014601]\n",
            "100%|██████████| 5/5 [00:01<00:00,  1.11s/trial, best loss: 0.05401459854014601]\n",
            "100%|██████████| 6/6 [00:02<00:00,  2.14s/trial, best loss: 0.05401459854014601]\n",
            "100%|██████████| 7/7 [00:03<00:00,  3.69s/trial, best loss: 0.05401459854014601]\n",
            "100%|██████████| 8/8 [00:04<00:00,  4.70s/trial, best loss: 0.05401459854014601]\n",
            "100%|██████████| 9/9 [00:03<00:00,  3.11s/trial, best loss: 0.05401459854014601]\n",
            "100%|██████████| 10/10 [00:03<00:00,  3.04s/trial, best loss: 0.05401459854014601]\n",
            "100%|██████████| 11/11 [00:01<00:00,  1.20s/trial, best loss: 0.05401459854014601]\n",
            "100%|██████████| 12/12 [00:02<00:00,  2.09s/trial, best loss: 0.05401459854014601]\n",
            "100%|██████████| 13/13 [00:01<00:00,  1.41s/trial, best loss: 0.05401459854014601]\n",
            "100%|██████████| 14/14 [00:02<00:00,  2.61s/trial, best loss: 0.05401459854014601]\n",
            "100%|██████████| 15/15 [00:01<00:00,  1.74s/trial, best loss: 0.05401459854014601]\n",
            "100%|██████████| 16/16 [00:03<00:00,  3.46s/trial, best loss: 0.05401459854014601]\n",
            "100%|██████████| 17/17 [00:04<00:00,  4.75s/trial, best loss: 0.05401459854014601]\n",
            "100%|██████████| 18/18 [00:00<00:00,  1.61trial/s, best loss: 0.05401459854014601]\n",
            "100%|██████████| 19/19 [00:03<00:00,  3.11s/trial, best loss: 0.05401459854014601]\n",
            "100%|██████████| 20/20 [00:00<00:00,  1.23trial/s, best loss: 0.05401459854014601]\n",
            "100%|██████████| 21/21 [00:00<00:00,  2.02trial/s, best loss: 0.05401459854014601]\n",
            "100%|██████████| 22/22 [00:02<00:00,  2.11s/trial, best loss: 0.05401459854014601]\n",
            "100%|██████████| 23/23 [00:01<00:00,  1.32s/trial, best loss: 0.05401459854014601]\n",
            "100%|██████████| 24/24 [00:04<00:00,  4.62s/trial, best loss: 0.05401459854014601]\n",
            "100%|██████████| 25/25 [00:01<00:00,  1.78s/trial, best loss: 0.05401459854014601]\n",
            "100%|██████████| 26/26 [00:02<00:00,  2.29s/trial, best loss: 0.05401459854014601]\n",
            "100%|██████████| 27/27 [00:05<00:00,  5.84s/trial, best loss: 0.05401459854014601]\n",
            "100%|██████████| 28/28 [00:02<00:00,  2.48s/trial, best loss: 0.05401459854014601]\n",
            "100%|██████████| 29/29 [00:03<00:00,  3.75s/trial, best loss: 0.05401459854014601]\n",
            "100%|██████████| 30/30 [00:09<00:00,  9.63s/trial, best loss: 0.05401459854014601]\n",
            "100%|██████████| 31/31 [00:02<00:00,  2.31s/trial, best loss: 0.052554744525547425]\n",
            "100%|██████████| 32/32 [00:19<00:00, 19.25s/trial, best loss: 0.052554744525547425]\n",
            "100%|██████████| 33/33 [00:01<00:00,  1.41s/trial, best loss: 0.052554744525547425]\n",
            "100%|██████████| 34/34 [00:04<00:00,  4.29s/trial, best loss: 0.052554744525547425]\n",
            "100%|██████████| 35/35 [00:00<00:00,  1.82trial/s, best loss: 0.052554744525547425]\n",
            "100%|██████████| 36/36 [00:00<00:00,  1.97trial/s, best loss: 0.051094890510948954]\n",
            "100%|██████████| 37/37 [00:01<00:00,  1.28s/trial, best loss: 0.051094890510948954]\n",
            "100%|██████████| 38/38 [00:00<00:00,  1.94trial/s, best loss: 0.051094890510948954]\n",
            "100%|██████████| 39/39 [00:01<00:00,  1.09s/trial, best loss: 0.051094890510948954]\n",
            "100%|██████████| 40/40 [00:00<00:00,  1.87trial/s, best loss: 0.051094890510948954]\n",
            "100%|██████████| 41/41 [00:03<00:00,  3.63s/trial, best loss: 0.051094890510948954]\n",
            "100%|██████████| 42/42 [00:04<00:00,  4.20s/trial, best loss: 0.051094890510948954]\n",
            "100%|██████████| 43/43 [00:03<00:00,  3.49s/trial, best loss: 0.051094890510948954]\n",
            "100%|██████████| 44/44 [00:03<00:00,  3.66s/trial, best loss: 0.051094890510948954]\n",
            "100%|██████████| 45/45 [00:11<00:00, 11.77s/trial, best loss: 0.051094890510948954]\n",
            "100%|██████████| 46/46 [00:00<00:00,  1.05trial/s, best loss: 0.051094890510948954]\n",
            "100%|██████████| 47/47 [00:01<00:00,  1.85s/trial, best loss: 0.051094890510948954]\n",
            "100%|██████████| 48/48 [00:06<00:00,  6.63s/trial, best loss: 0.051094890510948954]\n",
            "100%|██████████| 49/49 [00:01<00:00,  1.58s/trial, best loss: 0.051094890510948954]\n",
            "100%|██████████| 50/50 [00:01<00:00,  1.83s/trial, best loss: 0.051094890510948954]\n"
          ]
        }
      ],
      "source": [
        "# Fit Boosting data into Model\n",
        "hpsk_model3.fit(x_train,y_train)"
      ]
    },
    {
      "cell_type": "code",
      "execution_count": 17,
      "metadata": {
        "colab": {
          "base_uri": "https://localhost:8080/"
        },
        "id": "wIFOEiNSN8p1",
        "outputId": "17a8b1de-628c-4cbc-841c-818d36a35d80"
      },
      "outputs": [
        {
          "output_type": "stream",
          "name": "stdout",
          "text": [
            "Accuracy: 0.938\n"
          ]
        }
      ],
      "source": [
        "# Summarize Boosting Performance\n",
        "acc3 = hpsk_model3.score(x_test,y_test)\n",
        "print(\"Accuracy: %.3f\" % acc3)"
      ]
    },
    {
      "cell_type": "code",
      "execution_count": 18,
      "metadata": {
        "colab": {
          "base_uri": "https://localhost:8080/"
        },
        "id": "JWoKD5-FSvO1",
        "outputId": "78367f99-dd91-4b41-9e0e-6327b89263da"
      },
      "outputs": [
        {
          "output_type": "stream",
          "name": "stdout",
          "text": [
            "{'learner': XGBClassifier(base_score=0.5, booster=None, callbacks=None,\n",
            "              colsample_bylevel=0.6055841968762772, colsample_bynode=None,\n",
            "              colsample_bytree=0.9998513172617289, early_stopping_rounds=None,\n",
            "              enable_categorical=False, eval_metric=None, feature_types=None,\n",
            "              gamma=0.6441966122474531, gpu_id=None, grow_policy=None,\n",
            "              importance_type=None, interaction_constraints=None,\n",
            "              learning_rate=0.24083282726389194, max_bin=None,\n",
            "              max_cat_threshold=None, max_cat_to_onehot=None, max_delta_step=0,\n",
            "              max_depth=9, max_leaves=None, min_child_weight=3, missing=nan,\n",
            "              monotone_constraints=None, n_estimators=200, n_jobs=1,\n",
            "              num_parallel_tree=None, predictor=None, random_state=None, ...), 'preprocs': (MinMaxScaler(feature_range=(-1.0, 1.0)),), 'ex_preprocs': ()}\n"
          ]
        }
      ],
      "source": [
        "# Summarize the best model for Boosting\n",
        "print(hpsk_model3.best_model())"
      ]
    },
    {
      "cell_type": "markdown",
      "metadata": {
        "id": "EmYN8KyhSyCm"
      },
      "source": [
        "**Decision_tree_classifier**"
      ]
    },
    {
      "cell_type": "code",
      "execution_count": null,
      "metadata": {
        "id": "T_ajeaLDNtUv"
      },
      "outputs": [],
      "source": [
        "# - Define GradientBoostingClassifier Model/Search\n",
        "hpsk_model4 = HyperoptEstimator(classifier=decision_tree_classifier('DT'),preprocessing=any_preprocessing('pre'),algo=tpe.suggest,max_evals=50,trial_timeout=30)"
      ]
    },
    {
      "cell_type": "code",
      "execution_count": null,
      "metadata": {
        "colab": {
          "base_uri": "https://localhost:8080/"
        },
        "id": "BYIeOQb2OAKc",
        "outputId": "e5456e67-d862-4bfd-f07c-bda666a56551"
      },
      "outputs": [
        {
          "name": "stdout",
          "output_type": "stream",
          "text": [
            "100%|██████████| 1/1 [00:00<00:00,  3.94trial/s, best loss: 0.089051094890511]\n",
            "100%|██████████| 2/2 [00:00<00:00,  2.05trial/s, best loss: 0.08029197080291972]\n",
            "100%|██████████| 3/3 [00:00<00:00,  6.12trial/s, best loss: 0.08029197080291972]\n",
            "100%|██████████| 4/4 [00:00<00:00,  5.62trial/s, best loss: 0.0613138686131387]\n",
            "100%|██████████| 5/5 [00:00<00:00,  5.39trial/s, best loss: 0.05401459854014601]\n",
            "100%|██████████| 6/6 [00:00<00:00, 12.03trial/s, best loss: 0.05401459854014601]\n",
            "100%|██████████| 7/7 [00:00<00:00, 12.27trial/s, best loss: 0.05401459854014601]\n",
            "100%|██████████| 8/8 [00:00<00:00,  6.21trial/s, best loss: 0.05401459854014601]\n",
            "100%|██████████| 9/9 [00:00<00:00,  5.75trial/s, best loss: 0.05401459854014601]\n",
            "100%|██████████| 10/10 [00:00<00:00,  8.45trial/s, best loss: 0.05401459854014601]\n",
            "100%|██████████| 11/11 [00:00<00:00, 11.19trial/s, best loss: 0.05401459854014601]\n",
            "100%|██████████| 12/12 [00:00<00:00,  4.98trial/s, best loss: 0.05401459854014601]\n",
            "100%|██████████| 13/13 [00:00<00:00, 12.76trial/s, best loss: 0.05401459854014601]\n",
            "100%|██████████| 14/14 [00:00<00:00,  6.95trial/s, best loss: 0.05401459854014601]\n",
            "100%|██████████| 15/15 [00:00<00:00, 11.82trial/s, best loss: 0.05401459854014601]\n",
            "100%|██████████| 16/16 [00:00<00:00,  8.14trial/s, best loss: 0.05401459854014601]\n",
            "100%|██████████| 17/17 [00:00<00:00,  2.28trial/s, best loss: 0.05401459854014601]\n",
            "100%|██████████| 18/18 [00:00<00:00,  7.78trial/s, best loss: 0.05401459854014601]\n",
            "100%|██████████| 19/19 [00:00<00:00,  6.52trial/s, best loss: 0.05401459854014601]\n",
            "100%|██████████| 20/20 [00:00<00:00,  8.77trial/s, best loss: 0.05401459854014601]\n",
            "100%|██████████| 21/21 [00:00<00:00,  5.48trial/s, best loss: 0.05401459854014601]\n",
            "100%|██████████| 22/22 [00:00<00:00,  5.16trial/s, best loss: 0.05401459854014601]\n",
            "100%|██████████| 23/23 [00:00<00:00,  6.07trial/s, best loss: 0.05401459854014601]\n",
            "100%|██████████| 24/24 [00:00<00:00,  7.80trial/s, best loss: 0.052554744525547425]\n",
            "100%|██████████| 25/25 [00:00<00:00,  5.25trial/s, best loss: 0.052554744525547425]\n",
            "100%|██████████| 26/26 [00:00<00:00,  8.00trial/s, best loss: 0.052554744525547425]\n",
            "100%|██████████| 27/27 [00:00<00:00,  8.74trial/s, best loss: 0.052554744525547425]\n",
            "100%|██████████| 28/28 [00:00<00:00,  7.35trial/s, best loss: 0.052554744525547425]\n",
            "100%|██████████| 29/29 [00:00<00:00,  4.33trial/s, best loss: 0.052554744525547425]\n",
            "100%|██████████| 30/30 [00:00<00:00,  5.99trial/s, best loss: 0.052554744525547425]\n",
            "100%|██████████| 31/31 [00:00<00:00,  2.07trial/s, best loss: 0.052554744525547425]\n",
            "100%|██████████| 32/32 [00:00<00:00,  7.39trial/s, best loss: 0.052554744525547425]\n",
            "100%|██████████| 33/33 [00:00<00:00,  6.16trial/s, best loss: 0.052554744525547425]\n",
            "100%|██████████| 34/34 [00:00<00:00,  5.91trial/s, best loss: 0.052554744525547425]\n",
            "100%|██████████| 35/35 [00:00<00:00,  8.30trial/s, best loss: 0.052554744525547425]\n",
            "100%|██████████| 36/36 [00:00<00:00,  9.53trial/s, best loss: 0.052554744525547425]\n",
            "100%|██████████| 37/37 [00:00<00:00,  6.24trial/s, best loss: 0.052554744525547425]\n",
            "100%|██████████| 38/38 [00:00<00:00,  6.32trial/s, best loss: 0.052554744525547425]\n",
            "100%|██████████| 39/39 [00:00<00:00,  3.76trial/s, best loss: 0.052554744525547425]\n",
            "100%|██████████| 40/40 [00:00<00:00,  3.62trial/s, best loss: 0.052554744525547425]\n",
            "100%|██████████| 41/41 [00:00<00:00,  7.10trial/s, best loss: 0.052554744525547425]\n",
            "100%|██████████| 42/42 [00:00<00:00,  9.10trial/s, best loss: 0.052554744525547425]\n",
            "100%|██████████| 43/43 [00:00<00:00, 11.73trial/s, best loss: 0.052554744525547425]\n",
            "100%|██████████| 44/44 [00:00<00:00,  3.32trial/s, best loss: 0.052554744525547425]\n",
            "100%|██████████| 45/45 [00:00<00:00, 11.37trial/s, best loss: 0.052554744525547425]\n",
            "100%|██████████| 46/46 [00:00<00:00,  6.62trial/s, best loss: 0.052554744525547425]\n",
            "100%|██████████| 47/47 [00:00<00:00,  7.93trial/s, best loss: 0.052554744525547425]\n",
            "100%|██████████| 48/48 [00:00<00:00, 10.05trial/s, best loss: 0.052554744525547425]\n",
            "100%|██████████| 49/49 [00:00<00:00,  4.52trial/s, best loss: 0.052554744525547425]\n",
            "100%|██████████| 50/50 [00:00<00:00,  7.45trial/s, best loss: 0.052554744525547425]\n"
          ]
        }
      ],
      "source": [
        "# Fit DT into Model\n",
        "hpsk_model4.fit(x_train,y_train)"
      ]
    },
    {
      "cell_type": "code",
      "execution_count": null,
      "metadata": {
        "colab": {
          "base_uri": "https://localhost:8080/"
        },
        "id": "VoxAH4ktTpOT",
        "outputId": "232adde7-7ecf-4d8e-8ff0-0dc053315876"
      },
      "outputs": [
        {
          "name": "stdout",
          "output_type": "stream",
          "text": [
            "Accuracy: 0.947\n"
          ]
        }
      ],
      "source": [
        "# Summarize DT Performance\n",
        "acc4 = hpsk_model3.score(x_test,y_test)\n",
        "print(\"Accuracy: %.3f\" % acc4)"
      ]
    },
    {
      "cell_type": "code",
      "execution_count": null,
      "metadata": {
        "colab": {
          "base_uri": "https://localhost:8080/"
        },
        "id": "Vkp-JXZ0UCsE",
        "outputId": "343b66c4-d66c-44c8-d49e-afd3e282e750"
      },
      "outputs": [
        {
          "name": "stdout",
          "output_type": "stream",
          "text": [
            "{'learner': DecisionTreeClassifier(criterion='entropy', max_depth=3,\n",
            "                       max_features=0.006686983006392422, max_leaf_nodes=5,\n",
            "                       random_state=1, splitter='random'), 'preprocs': (PCA(n_components=10),), 'ex_preprocs': ()}\n"
          ]
        }
      ],
      "source": [
        "# Summarize the best model for Boosting\n",
        "print(hpsk_model4.best_model())"
      ]
    },
    {
      "cell_type": "markdown",
      "metadata": {
        "id": "nqHCDxsOT2hh"
      },
      "source": [
        "**K-nearest Neighbors**"
      ]
    },
    {
      "cell_type": "code",
      "execution_count": null,
      "metadata": {
        "id": "_eyWC4PyTwKS"
      },
      "outputs": [],
      "source": [
        "# - Define GradientBoostingClassifier Model/Search\n",
        "hpsk_model5 = HyperoptEstimator(classifier=decision_tree_classifier('DT'),preprocessing=any_preprocessing('pre'),algo=tpe.suggest,max_evals=50,trial_timeout=30)"
      ]
    },
    {
      "cell_type": "code",
      "execution_count": null,
      "metadata": {
        "colab": {
          "base_uri": "https://localhost:8080/"
        },
        "id": "IYi88Uc0T953",
        "outputId": "1d584c00-160b-4a80-ae18-3eb474826c10"
      },
      "outputs": [
        {
          "name": "stdout",
          "output_type": "stream",
          "text": [
            "100%|██████████| 1/1 [00:00<00:00,  7.86trial/s, best loss: 0.089051094890511]\n",
            "100%|██████████| 2/2 [00:00<00:00, 10.61trial/s, best loss: 0.089051094890511]\n",
            "100%|██████████| 3/3 [00:00<00:00,  9.43trial/s, best loss: 0.05401459854014601]\n",
            "100%|██████████| 4/4 [00:00<00:00, 11.60trial/s, best loss: 0.05401459854014601]\n",
            "100%|██████████| 5/5 [00:00<00:00, 14.59trial/s, best loss: 0.05401459854014601]\n",
            "100%|██████████| 6/6 [00:00<00:00, 13.50trial/s, best loss: 0.05401459854014601]\n",
            "100%|██████████| 7/7 [00:00<00:00,  8.90trial/s, best loss: 0.05401459854014601]\n",
            "100%|██████████| 8/8 [00:00<00:00, 13.76trial/s, best loss: 0.05401459854014601]\n",
            "100%|██████████| 9/9 [00:00<00:00,  5.62trial/s, best loss: 0.05401459854014601]\n",
            "100%|██████████| 10/10 [00:00<00:00, 14.00trial/s, best loss: 0.05401459854014601]\n",
            "100%|██████████| 11/11 [00:00<00:00, 13.94trial/s, best loss: 0.05401459854014601]\n",
            "100%|██████████| 12/12 [00:00<00:00, 12.72trial/s, best loss: 0.05401459854014601]\n",
            "100%|██████████| 13/13 [00:00<00:00, 10.94trial/s, best loss: 0.05401459854014601]\n",
            "100%|██████████| 14/14 [00:00<00:00, 13.52trial/s, best loss: 0.05401459854014601]\n",
            "100%|██████████| 15/15 [00:00<00:00, 11.02trial/s, best loss: 0.05401459854014601]\n",
            "100%|██████████| 16/16 [00:00<00:00, 10.17trial/s, best loss: 0.05401459854014601]\n",
            "100%|██████████| 17/17 [00:00<00:00,  8.39trial/s, best loss: 0.05401459854014601]\n",
            "100%|██████████| 18/18 [00:00<00:00, 12.65trial/s, best loss: 0.05401459854014601]\n",
            "100%|██████████| 19/19 [00:00<00:00, 13.31trial/s, best loss: 0.05401459854014601]\n",
            "100%|██████████| 20/20 [00:00<00:00, 12.66trial/s, best loss: 0.05401459854014601]\n",
            "100%|██████████| 21/21 [00:00<00:00, 11.54trial/s, best loss: 0.05401459854014601]\n",
            "100%|██████████| 22/22 [00:00<00:00, 11.19trial/s, best loss: 0.05401459854014601]\n",
            "100%|██████████| 23/23 [00:00<00:00, 11.92trial/s, best loss: 0.05401459854014601]\n",
            "100%|██████████| 24/24 [00:00<00:00, 12.24trial/s, best loss: 0.05401459854014601]\n",
            "100%|██████████| 25/25 [00:00<00:00,  3.16trial/s, best loss: 0.05401459854014601]\n",
            "100%|██████████| 26/26 [00:00<00:00, 12.31trial/s, best loss: 0.05401459854014601]\n",
            "100%|██████████| 27/27 [00:00<00:00, 17.33trial/s, best loss: 0.05401459854014601]\n",
            "100%|██████████| 28/28 [00:00<00:00, 16.76trial/s, best loss: 0.05401459854014601]\n",
            "100%|██████████| 29/29 [00:00<00:00, 13.50trial/s, best loss: 0.05401459854014601]\n",
            "100%|██████████| 30/30 [00:00<00:00, 10.71trial/s, best loss: 0.05401459854014601]\n",
            "100%|██████████| 31/31 [00:00<00:00, 11.88trial/s, best loss: 0.05401459854014601]\n",
            "100%|██████████| 32/32 [00:00<00:00, 10.92trial/s, best loss: 0.05401459854014601]\n",
            "100%|██████████| 33/33 [00:00<00:00, 17.38trial/s, best loss: 0.05401459854014601]\n",
            "100%|██████████| 34/34 [00:00<00:00, 14.45trial/s, best loss: 0.05401459854014601]\n",
            "100%|██████████| 35/35 [00:00<00:00, 18.03trial/s, best loss: 0.05401459854014601]\n",
            "100%|██████████| 36/36 [00:00<00:00, 15.62trial/s, best loss: 0.05401459854014601]\n",
            "100%|██████████| 37/37 [00:00<00:00, 16.02trial/s, best loss: 0.05401459854014601]\n",
            "100%|██████████| 38/38 [00:00<00:00, 16.04trial/s, best loss: 0.05401459854014601]\n",
            "100%|██████████| 39/39 [00:00<00:00, 16.22trial/s, best loss: 0.05401459854014601]\n",
            "100%|██████████| 40/40 [00:00<00:00, 16.62trial/s, best loss: 0.05401459854014601]\n",
            "100%|██████████| 41/41 [00:00<00:00, 15.91trial/s, best loss: 0.05401459854014601]\n",
            "100%|██████████| 42/42 [00:00<00:00, 16.78trial/s, best loss: 0.05401459854014601]\n",
            "100%|██████████| 43/43 [00:00<00:00, 14.98trial/s, best loss: 0.05401459854014601]\n",
            "100%|██████████| 44/44 [00:00<00:00, 14.66trial/s, best loss: 0.05401459854014601]\n",
            "100%|██████████| 45/45 [00:00<00:00, 16.98trial/s, best loss: 0.05401459854014601]\n",
            "100%|██████████| 46/46 [00:00<00:00, 16.39trial/s, best loss: 0.05401459854014601]\n",
            "100%|██████████| 47/47 [00:00<00:00, 11.48trial/s, best loss: 0.05401459854014601]\n",
            "100%|██████████| 48/48 [00:00<00:00, 16.08trial/s, best loss: 0.05401459854014601]\n",
            "100%|██████████| 49/49 [00:00<00:00, 14.21trial/s, best loss: 0.05401459854014601]\n",
            "100%|██████████| 50/50 [00:00<00:00, 11.62trial/s, best loss: 0.05401459854014601]\n"
          ]
        }
      ],
      "source": [
        "# Fit DT into Model\n",
        "hpsk_model5.fit(x_train,y_train)"
      ]
    },
    {
      "cell_type": "code",
      "execution_count": null,
      "metadata": {
        "colab": {
          "base_uri": "https://localhost:8080/"
        },
        "id": "dUicCi4_T_GR",
        "outputId": "84dc4195-4b58-4626-aa09-d66d7d9ee231"
      },
      "outputs": [
        {
          "name": "stdout",
          "output_type": "stream",
          "text": [
            "Accuracy: 0.946\n"
          ]
        }
      ],
      "source": [
        "# Summarize DT Performance\n",
        "acc5 = hpsk_model5.score(x_test,y_test)\n",
        "print(\"Accuracy: %.3f\" % acc5)"
      ]
    },
    {
      "cell_type": "markdown",
      "metadata": {
        "id": "NPamLNKAH45Z"
      },
      "source": [
        "### **Using Best Model to Define Search Space for Hyperparameter Tuning:**"
      ]
    },
    {
      "cell_type": "code",
      "execution_count": null,
      "metadata": {
        "id": "Qy1hILVrpoy7"
      },
      "outputs": [],
      "source": [
        "# Define the Search Space for GradientBoostingClassifier\n",
        "gb_space = {\n",
        "    'learning_rate': hp.uniform('learning_rate', 0.01, 0.5),\n",
        "    'n_estimators': hp.choice('n_estimators', range(50, 300, 50)),\n",
        "    'max_depth': hp.choice('max_depth', range(1, 10)),\n",
        "    'subsample': hp.uniform('subsample', 0.5, 1.0),\n",
        "    'min_samples_split': hp.choice('min_samples_split', range(2, 10)),\n",
        "}\n",
        "\n",
        "# Define the Search Space for RandomForestClassifier\n",
        "rf_space = {\n",
        "    'n_estimators': hp.choice('n_estimators', range(50, 300, 50)),\n",
        "    'max_depth': hp.choice('max_depth', range(1, 10)),\n",
        "    'min_samples_split': hp.choice('min_samples_split', range(2, 10)),\n",
        "}\n",
        "\n",
        "# Define the Search Space for K-nearest Neighbors\n",
        "knn_space = {\n",
        "    'n_neighbors': hp.choice('n_neighbors', range(1, 10)),\n",
        "    'weights': hp.choice('weights', ['uniform', 'distance']),\n",
        "}\n",
        "\n",
        "# Define the Search Space for Decision Trees\n",
        "dt_space = {\n",
        "    'max_depth': hp.choice('max_depth', range(1, 10)),\n",
        "    'min_samples_split': hp.choice('min_samples_split', range(2, 10)),\n",
        "}"
      ]
    },
    {
      "cell_type": "code",
      "execution_count": null,
      "metadata": {
        "id": "9uZMsZtgprOx"
      },
      "outputs": [],
      "source": [
        "def objective(params, classifier):\n",
        "    if classifier == 'gb':\n",
        "        clf = GradientBoostingClassifier(**params)\n",
        "    elif classifier == 'rf':\n",
        "        clf = RandomForestClassifier(**params)\n",
        "    elif classifier == 'knn':\n",
        "        clf = KNeighborsClassifier(**params)\n",
        "    elif classifier == 'dt':\n",
        "        clf = DecisionTreeClassifier(**params)\n",
        "    scores = cross_val_score(clf, x_train, y_train, cv=5)\n",
        "    return -np.mean(scores)  # Minimize negative mean accuracy"
      ]
    },
    {
      "cell_type": "code",
      "execution_count": null,
      "metadata": {
        "colab": {
          "base_uri": "https://localhost:8080/"
        },
        "id": "rtY9zETjptb7",
        "outputId": "d6e8a740-622f-437b-d08a-e02aea68d1aa"
      },
      "outputs": [
        {
          "name": "stdout",
          "output_type": "stream",
          "text": [
            "100%|██████████| 100/100 [06:48<00:00,  4.09s/trial, best loss: -0.9547184872156059]\n",
            "Best Hyperparameters for GradientBoostingClassifier: {'learning_rate': 0.011171264260192479, 'max_depth': 5, 'min_samples_split': 2, 'n_estimators': 250, 'subsample': 0.7528595940818777}\n"
          ]
        }
      ],
      "source": [
        "# Run the Optimization for GradientBoostingClassifier\n",
        "gb_trials = Trials()\n",
        "gb_best = fmin(fn=lambda params: objective(params, 'gb'), space=gb_space, algo=tpe.suggest, max_evals=100, trials=gb_trials)\n",
        "\n",
        "gb_best_hyperparams = space_eval(gb_space, gb_best)\n",
        "\n",
        "print(\"Best Hyperparameters for GradientBoostingClassifier:\", gb_best_hyperparams)"
      ]
    },
    {
      "cell_type": "code",
      "execution_count": null,
      "metadata": {
        "colab": {
          "base_uri": "https://localhost:8080/"
        },
        "id": "p28Go1I1pvtZ",
        "outputId": "9aa4783b-28a9-44e2-d495-b7d5047fdae0"
      },
      "outputs": [
        {
          "name": "stdout",
          "output_type": "stream",
          "text": [
            "100%|██████████| 100/100 [02:13<00:00,  1.33s/trial, best loss: -0.9541336918939685]\n",
            "Best Hyperparameters for RandomForestClassifier: {'max_depth': 9, 'min_samples_split': 4, 'n_estimators': 100}\n"
          ]
        }
      ],
      "source": [
        "# Run the Optimization for RandomForestClassifier\n",
        "rf_trials = Trials()\n",
        "rf_best = fmin(fn=lambda params: objective(params, 'rf'), space=rf_space, algo=tpe.suggest, max_evals=100, trials=rf_trials)\n",
        "\n",
        "rf_best_hyperparams = space_eval(rf_space, rf_best)\n",
        "\n",
        "print(\"Best Hyperparameters for RandomForestClassifier:\", rf_best_hyperparams)"
      ]
    },
    {
      "cell_type": "code",
      "execution_count": null,
      "metadata": {
        "colab": {
          "base_uri": "https://localhost:8080/"
        },
        "id": "Miyq0BGUp4fW",
        "outputId": "c6a8ab9f-6cf5-4c74-fa25-82e75c1889b0"
      },
      "outputs": [
        {
          "name": "stdout",
          "output_type": "stream",
          "text": [
            "100%|██████████| 100/100 [00:03<00:00, 29.69trial/s, best loss: -0.9535497502881292]\n",
            "Best Hyperparameters for Decision Trees: {'max_depth': 1, 'min_samples_split': 5}\n"
          ]
        }
      ],
      "source": [
        "# Run the Optimization for Decision Trees\n",
        "dt_trials = Trials()\n",
        "dt_best = fmin(fn=lambda params: objective(params, 'dt'), space=dt_space, algo=tpe.suggest, max_evals=100, trials=dt_trials)\n",
        "\n",
        "dt_best_hyperparams = space_eval(dt_space, dt_best)\n",
        "\n",
        "print(\"Best Hyperparameters for Decision Trees:\", dt_best_hyperparams)"
      ]
    },
    {
      "cell_type": "code",
      "execution_count": null,
      "metadata": {
        "colab": {
          "base_uri": "https://localhost:8080/"
        },
        "id": "NlA0jouSp1kz",
        "outputId": "0354935e-24a4-4713-b032-33c6f073c4c3"
      },
      "outputs": [
        {
          "name": "stdout",
          "output_type": "stream",
          "text": [
            "100%|██████████| 100/100 [00:11<00:00,  8.96trial/s, best loss: -0.9535497502881292]\n",
            "Best Hyperparameters for K-nearest Neighbors: {'n_neighbors': 8, 'weights': 'uniform'}\n"
          ]
        }
      ],
      "source": [
        "# Run the Optimization for K-nearest Neighbors\n",
        "knn_trials = Trials()\n",
        "knn_best = fmin(fn=lambda params: objective(params, 'knn'), space=knn_space, algo=tpe.suggest, max_evals=100, trials=knn_trials)\n",
        "\n",
        "knn_best_hyperparams = space_eval(knn_space, knn_best)\n",
        "\n",
        "print(\"Best Hyperparameters for K-nearest Neighbors:\", knn_best_hyperparams)"
      ]
    },
    {
      "cell_type": "code",
      "execution_count": null,
      "metadata": {
        "colab": {
          "base_uri": "https://localhost:8080/"
        },
        "id": "aweF-9zMp9b2",
        "outputId": "eb770396-f2db-4b43-bbf9-58dd84e8c533"
      },
      "outputs": [
        {
          "name": "stdout",
          "output_type": "stream",
          "text": [
            "GradientBoostingClassifier Accuracy: 0.95\n",
            "RandomForestClassifier Accuracy: 0.95\n",
            "K-nearest Neighbors Accuracy: 0.95\n",
            "Decision Trees Accuracy: 0.95\n",
            "Best Classifier: RandomForestClassifier\n"
          ]
        }
      ],
      "source": [
        "#  Train Final Models with Best Hyperparameters\n",
        "gb_final_model = GradientBoostingClassifier(**gb_best_hyperparams)\n",
        "gb_final_model.fit(x_train, y_train)\n",
        "\n",
        "rf_final_model = RandomForestClassifier(**rf_best_hyperparams)\n",
        "rf_final_model.fit(x_train, y_train)\n",
        "\n",
        "knn_final_model = KNeighborsClassifier(**knn_best_hyperparams)\n",
        "knn_final_model.fit(x_train, y_train)\n",
        "\n",
        "dt_final_model = DecisionTreeClassifier(**dt_best_hyperparams)\n",
        "dt_final_model.fit(x_train, y_train)\n",
        "\n",
        "#  Evaluate Performance\n",
        "gb_y_pred = gb_final_model.predict(x_test)\n",
        "gb_accuracy = accuracy_score(y_test, gb_y_pred)\n",
        "print(\"GradientBoostingClassifier Accuracy: {:.2f}\".format(gb_accuracy))\n",
        "\n",
        "rf_y_pred = rf_final_model.predict(x_test)\n",
        "rf_accuracy = accuracy_score(y_test, rf_y_pred)\n",
        "print(\"RandomForestClassifier Accuracy: {:.2f}\".format(rf_accuracy))\n",
        "\n",
        "\n",
        "knn_y_pred = knn_final_model.predict(x_test)\n",
        "knn_accuracy = accuracy_score(y_test, knn_y_pred)\n",
        "print(\"K-nearest Neighbors Accuracy: {:.2f}\".format(knn_accuracy))\n",
        "\n",
        "dt_y_pred = dt_final_model.predict(x_test)\n",
        "dt_accuracy = accuracy_score(y_test, dt_y_pred)\n",
        "print(\"Decision Trees Accuracy: {:.2f}\".format(dt_accuracy))\n",
        "\n",
        "#  Determine the Best Classifier\n",
        "best_accuracy = max(gb_accuracy, rf_accuracy, knn_accuracy, dt_accuracy)\n",
        "best_classifier = ''\n",
        "if best_accuracy == gb_accuracy:\n",
        "    best_classifier = 'GradientBoostingClassifier'\n",
        "elif best_accuracy == rf_accuracy:\n",
        "    best_classifier = 'RandomForestClassifier'\n",
        "elif best_accuracy == knn_accuracy:\n",
        "    best_classifier = 'K-nearest Neighbors'\n",
        "elif best_accuracy == dt_accuracy:\n",
        "    best_classifier = 'Decision Trees'\n",
        "print(\"Best Classifier: {}\".format(best_classifier))"
      ]
    },
    {
      "cell_type": "markdown",
      "metadata": {
        "id": "44tahOry2BeJ"
      },
      "source": [
        "# **Experimentation:**\n",
        "### **Best Classifier:**\n",
        "\n",
        "<p align=\"justify\"> The provided paragraph outlines the evaluation results of several machine learning classifiers for a specific task, with each classifier achieving an accuracy of 0.95 on a test dataset. The best classifier, determined based on this high accuracy, is the RandomForestClassifier. This result suggests that the RandomForestClassifier performed equally well as the other classifiers but was selected as the best one for the task. The consistent high accuracy across all classifiers indicates their strong predictive capability for the given problem, with the RandomForestClassifier being chosen as the preferred model for its specific advantages in this context."
      ]
    },
    {
      "cell_type": "code",
      "execution_count": null,
      "metadata": {
        "colab": {
          "base_uri": "https://localhost:8080/"
        },
        "id": "v2A1swaiqAB1",
        "outputId": "fb84a647-1881-489b-df74-586e4b6f6a25"
      },
      "outputs": [
        {
          "name": "stdout",
          "output_type": "stream",
          "text": [
            "Voting Classifier Accuracy: 0.95\n"
          ]
        }
      ],
      "source": [
        "# Build a Voting Classifier with the Best Classifiers\n",
        "classifiers = [('gb', gb_final_model), ('rf', rf_final_model),\n",
        "               ('knn', knn_final_model), ('dt', dt_final_model)]\n",
        "voting_clf = VotingClassifier(estimators=classifiers, voting='hard')\n",
        "voting_clf.fit(x_train, y_train)\n",
        "\n",
        "voting_y_pred = voting_clf.predict(x_test)\n",
        "voting_accuracy = accuracy_score(y_test, voting_y_pred)\n",
        "print(\"Voting Classifier Accuracy: {:.2f}\".format(voting_accuracy))"
      ]
    },
    {
      "cell_type": "markdown",
      "metadata": {
        "id": "bzj2qiAy2dj2"
      },
      "source": [
        "<p align=\"justify\"> We optimized the code above to demonstrate the construction of a voting classifier using four previously trained classifiers: GradientBoostingClassifier (gb_final_model), RandomForestClassifier (rf_final_model), K-nearest Neighbors (knn_final_model), and Decision Trees (dt_final_model). These classifiers, each individually optimized with the best hyperparameters, are combined using a hard-voting strategy within the VotingClassifier. The resulting ensemble model is then trained on the training data (x_train, y_train), and its accuracy is evaluated on the test data (x_test, y_test). The output indicates that the accuracy of the Voting Classifier is 0.95, demonstrating the effectiveness of combining multiple models for making predictions, where the majority vote among the component classifiers yields highly accurate results."
      ]
    },
    {
      "cell_type": "markdown",
      "metadata": {
        "id": "lX7xdAOj4MZq"
      },
      "source": [
        "#**Conclusion:**\n",
        "\n",
        "<p align=\"justify\">  In conclusion, the application of Hyperopt-sklearn (hpsklearn) to the task of stroke prediction demonstrates its remarkable efficacy in optimizing classifier selection and hyperparameter tuning. Through the defined search spaces and objective functions, we systematically explore a wide range of hyperparameter configurations for multiple classifiers, including GradientBoostingClassifier, RandomForestClassifier, K-nearest Neighbors, and Decision Trees.\n",
        "\n",
        "<p align=\"justify\">  The results of this approach unveil valuable insights into the performance of these classifiers on the stroke prediction task. The evaluation of the final models reveals high accuracy for each classifier, with the RandomForestClassifier emerging as the best-performing model based on the test set. This underscores the importance of well-tuned hyperparameters in achieving superior predictive accuracy.\n",
        "\n",
        "<p align=\"justify\">  The utilization of Hyperopt-sklearn not only automates the hyperparameter optimization process but also enhances the selection of the most suitable classifier for stroke prediction. It systematically guides the search, leading to the identification of optimal hyperparameter configurations that align with the complexities of stroke data.\n",
        "\n",
        "<p align=\"justify\">  The significance of these findings is evident in the realm of healthcare, specifically in the context of stroke prediction. The ability to identify the best-performing classifier and optimize its hyperparameters directly translates to more accurate predictions of stroke risk. Early and precise detection of stroke can significantly impact patient outcomes, leading to timely interventions and improved patient care.\n",
        "\n",
        "<p align=\"justify\"> Hyperopt-sklearn's role in this process is pivotal, providing a powerful framework to fine-tune models for stroke prediction. Its ability to efficiently explore the hyperparameter space and guide the selection of the best classifier enhances the overall effectiveness of the prediction model. The results of this application underscore the potential of Hyperopt-sklearn in advancing medical research and decision-making, contributing to the development of data-driven, accurate, and impactful solutions in the field of stroke prevention and healthcare as a whole."
      ]
    },
    {
      "cell_type": "markdown",
      "metadata": {
        "id": "LIFYcqWU1ppW"
      },
      "source": [
        "The \"results\" in the provided code pertain to the outcome of evaluating different machine learning classifiers (GradientBoostingClassifier, RandomForestClassifier, SVM, K-nearest Neighbors, and Decision Trees) with the best hyperparameters determined through a tuning process. The code calculates and prints the accuracy scores of each classifier on the test dataset, facilitating a direct performance comparison. The identification of the best classifier based on the highest accuracy score helps in selecting the most effective model for the specific stroke classification task. These results offer insights into the classifiers' predictive capability, aiding in the decision-making process regarding the optimal choice of classifier to deploy for real-world stroke risk assessment, thereby enhancing the practical utility of the model."
      ]
    },
    {
      "cell_type": "markdown",
      "metadata": {
        "id": "zWedMJwWOeBK"
      },
      "source": [
        "#**Documentation**\n",
        "###**The struggles:**\n",
        "\n",
        "In Hpsklearn, we faced errors when using any_classifier('cla') as the classifier. Nevertheless, using only a single classifier, such as random_forest_classifier, worked without any issues.\n",
        "\n",
        "Initially, we believed that since Hpsklearn is an automated machine learning (auto-ML) solution, all classifiers should run without manual tuning for assignment 2. However, due to the encountered errors, we opted to use the specific random_forest_classifier instead, which served our purpose without the need for hyperparameter tuning.\n",
        "\n",
        "-**Issues faced with Autosklearn:**Auto-sklearn which was later assigned to us faced an ugrade/import issue of its dependencies.\n",
        "\n",
        "###**Journey:**\n",
        "\n",
        "**For assignment 2:**\n",
        "After the struggles we faced trying to get the initially assigned Hpsklearn to work, we received approval from prof JB to work using auto-sklearn which worked perfectly as all the libraries and depencies worked. using Auto-sklearn proved to be easy.\n",
        "\n",
        "**For assignment 3**\n",
        "When implementing assignment 3, we hoped to continue using auto-sklearn, however we experienced a significant issue with importing auto-sklearn. This issue was related to the dependencies scikit-learn version 0.24.2 not installing.\n",
        "In trying to resolve this issues:\n",
        "\n",
        "- The first step we took was to ensure we had the latest version of 'pip' installed.\n",
        "\n",
        "- We ensured that our python version was compatible with the version of scikt-learn and auto-sklearn\n",
        "\n",
        "- Another step we tried was creating a virtual environment and installing auto-sklearn and its dependencies inside it.\n",
        "\n",
        "- We also tried upgrading scikt-learn\n",
        "\n",
        "**But nothing seemed to work**\n",
        "Finally, we got a re-approval to switch back to Hpsklearn as after experimentation, we solved the issues we faced. As at today, auto-sklearn has failed to impport (12 August 2023)\n"
      ]
    },
    {
      "cell_type": "markdown",
      "metadata": {
        "id": "a8VetoRd8sj4"
      },
      "source": [
        "# **Research Paper:**\n",
        "#**-Limitation About other Approaches:**\n",
        "\n",
        "\n",
        "<p align=\"justify\">-  The works previously performed on stroke mostly include the ones on Heart stroke prediction. Very less works have been performed on Brain stroke using hpskearn. This paper is based on predicting the occurrence of a brain stroke using Machine Learning. The key components of the approaches used and results obtained are that among the five different classification algorithms used Naïve Bayes has best performed obtaining a higher accuracy metric. The limitation with this model is that it is being trained on textual data and not on real time brain images.\n",
        "\n",
        "\n",
        "\n",
        "**-Solution:**\n",
        "\n",
        "<p align=\"justify\">- As developing a model that can easily predict stroke at the early stages has been a challenge using the traditional approach. This report will show how we have successfully developed various machine learning classification algorithm to solve the problem of predicting stroke at the early stages.\n",
        "\n",
        "<p align=\"justify\">- Considering that the goal of this report is to predict stroke based on an initial model trained on the\n",
        "stroke dataset and to gradually improve the model to achieve better result. Based on this objective, this\n",
        "report will first develop a stroke prediction model (without a hyperparameter tuning), the second\n",
        "approach will be to apply hyperparameter tuning (grid search Cross validation) when improving the\n",
        "pretrained models to achieve better results.\n",
        "This report will include\n"
      ]
    },
    {
      "cell_type": "markdown",
      "metadata": {
        "id": "gm2-kJScSKDp"
      },
      "source": [
        "## **Final Remark from \"Active\" Members**\n",
        "\n",
        "**<p align=\"justify\">Azegbobo_Amanda_Akerele**: Throughout this project, I gained a deep understanding of hpsklearn's capabilities in automating hyperparameter tuning. I learned how to define search spaces, integrate hpsklearn with Scikit-learn classifiers, and optimize models effectively. This experience solidified my skills in leveraging advanced tools for improving model performance.\" Working on stroke prediction with hpsklearn was an enlightening experience. I realized the importance of fine-tuning models for medical applications, and hpsklearn's automated hyperparameter optimization simplified this process. We were able to discover optimal configurations that could significantly impact early stroke prediction, ultimately enhancing the quality of healthcare outcomes.\" Notwithstanding the  challenges we encountered in dealing with imbalanced data and selecting the most suitable classifier. Hpsklearn, with its ability to optimize both hyperparameters and classifier selection, proved invaluable. It was fascinating to see how hpsklearn systematically guided us through these challenges, leading to a well-tuned model for stroke prediction.\"\n",
        "\n",
        "\n",
        "**<p align=\"justify\">Ramendra_Manandhar**: *Collaborating on this project allowed me to witness the power of hpsklearn in action. By integrating our domain knowledge with hpsklearn's automated approach, we managed to fine-tune models that could be directly applied in a real-world healthcare context. This project highlighted the importance of efficient tools like hpsklearn in creating impactful solutions. While hpsklearn significantly improved our model's accuracy, I also learned the importance of model interpretability in the healthcare domain. We must ensure that our predictions are not only accurate but also interpretable for healthcare professionals. Hpsklearn's role in optimizing model performance should be balanced with ethical considerations and the need for understandable insights. While the project focused on stroke prediction, it sparked my curiosity about further exploring the capabilities of hpsklearn in other domains. This project was just the beginning. I'm motivated to delve into more complex models, deeper feature engineering, and understanding how hpsklearn can be leveraged for even more impactful projects.*"
      ]
    },
    {
      "cell_type": "markdown",
      "metadata": {
        "id": "AVt-_U21TO9S"
      },
      "source": [
        "# **References**\n",
        "\n",
        "\n",
        "| Reference |Explanation |  Dataset/Input |Weakness\n",
        "| --- | --- | --- | --- |\n",
        "| Komer et al. [1] | Research paper [6] shows demonstrate, Hyperopt-Sklearn: automatic hyperparameter configuration for Scikit-learn, https://github.com/hyperopt/hyperopt-sklearn\n",
        "| Tom et al. [2] |  They used various machine learning techniques like Decision tree, Naïve Bayes, SVM to build the model and later compared their performance| Heart Stroke dataset  | Maximum accuracy of 60%\n",
        "| Nwosu et al. [3] | Research paper [7] shows that the model was trained using Decision Tree, Random Forest, and Multi-layer perceptron for stroke prediction. | SQUAD V2 dataset for QA | The calculated accuracy for Decision Tree was 74.31%, Random Forest was 74.53%, and Multi-layer perceptron was 75.02%\n",
        "| James et al. [4] | Research paper [8] shows demonstrate, using search algorithms in Hyperopt and standard benchmarking data sets (MNIST, 20-newsgroups, convex shapes), that searching this space is practical and effective. | algorithms such as SVMs and Random Forests (RFs) have asmall-enough number of hyperparameters that manual tuning and grid or random  |  SVM on centered data thatscores 98.6%, and Hyperopt-Sklearn matches that performance\n",
        "\n",
        "# **Peer Review Comparison**\n",
        "\n",
        "1. **In the article on \"Automated Machine Learning for Healthcare and Clinical Notes Analysis\" by Akram et al., 2021:**\n",
        "<p align=\"justify\">Luo et al., proposed methods as part of an under-development AutoML system that can help healthcare experts perform predictions and classifications on big clinical data without data scientist involvement. They identified three hurdles that affect the AutoML process. The first is feature and algorithm selection, as well as hyperparameters optimization. Feature selection methods and models of selecting algorithms, and identifying optimum hyperparameters can lead to thousands of routes to try every possible combination. The second hurdle is grouping and accumulating data, which require data scientists. This issue is part of data preparation and feature-extraction processes. The third hurdle is generalizing machine learning models. Each medical dataset has its own characteristics and needs a different ML model to get good accuracy.\n",
        "\n",
        "2. **A Novel Diabetes Healthcare Disease Prediction Framework Using Machine Learning Techniques Krishnamoorthi, R. et al., 2022**\n",
        "<p align=\"justify\">The authors utilized a framework to create and assess ML classication models such as Logistic Regression, KNN, SVM, and RF for the prediction of diabetes patients. ML method was implemented on the Pima Indian Diabetes Database (PIDD) which has 768 rows and 9 columns. The forecast accuracy delivers 83 percent accuracy. Results of the implementation approach indicate how the Logistic Regression outperformed other algorithms of ML. The results indicated that only a structured dataset was selected but unstructured data are not considered, also model should be implemented in other healthcare domains like heart disease, and COVID-19, nally other factors should be considered for diabetes prediction, like family history of diabetes, smoking habits, and physical inactivity.\n",
        "\n",
        "3. **Early prediction of heart disease using PCA and hybrid genetic algorithm with k-means  Islam, M. T. et al.,2020**\n",
        "<p align=\"justify\">The authors introduced an unsupervised ML algorithm K-means clustering for the UCI heart disease dataset to detect heart disease in the early stage. PCA is used for dimensionality reduction. The outcome of the method demonstrates early cardiac disease prediction with 94.06 percent accuracy. The authors should apply the proposed technique using more than one algorithm and use more than one dataset.\n",
        "\n"
      ]
    },
    {
      "cell_type": "markdown",
      "metadata": {
        "id": "C1ShlebX9ZFx"
      },
      "source": [
        "###**Image of Issues faced with auto-sklearn import:**"
      ]
    },
    {
      "cell_type": "code",
      "execution_count": null,
      "metadata": {
        "colab": {
          "base_uri": "https://localhost:8080/",
          "height": 280
        },
        "id": "cLAlxa1N9YY9",
        "outputId": "f77ea269-f426-41a1-f94a-2f805ab1faef"
      },
      "outputs": [
        {
          "data": {
            "image/png": "[encoded data removed]",
            "text/plain": [
              "<Figure size 640x480 with 1 Axes>"
            ]
          },
          "metadata": {},
          "output_type": "display_data"
        }
      ],
      "source": [
        "from PIL import Image\n",
        "import matplotlib.pyplot as plt\n",
        "\n",
        "# Load the image\n",
        "image_path = \"/content/auto-sklearn.png\"\n",
        "image = Image.open(image_path)\n",
        "\n",
        "# Display the image\n",
        "plt.imshow(image)\n",
        "plt.axis('off')\n",
        "plt.show()"
      ]
    },
    {
      "cell_type": "markdown",
      "metadata": {
        "id": "_AkAxs_t_Jgz"
      },
      "source": [
        "### **Image of Initial Issues faced with hpsklearn:**"
      ]
    },
    {
      "cell_type": "code",
      "execution_count": null,
      "metadata": {
        "colab": {
          "base_uri": "https://localhost:8080/",
          "height": 280
        },
        "id": "33ctpplN_D5t",
        "outputId": "90a528bb-084f-4709-dfc9-19907b4a4f26"
      },
      "outputs": [
        {
          "data": {
            "image/png": "[encoded data removed]",
            "text/plain": [
              "<Figure size 640x480 with 1 Axes>"
            ]
          },
          "metadata": {},
          "output_type": "display_data"
        }
      ],
      "source": [
        "from PIL import Image\n",
        "import matplotlib.pyplot as plt\n",
        "\n",
        "# Load the image\n",
        "image_path = \"/content/hpsklearn.png\"\n",
        "image = Image.open(image_path)\n",
        "\n",
        "# Display the image\n",
        "plt.imshow(image)\n",
        "plt.axis('off')\n",
        "plt.show()"
      ]
    }
  ],
  "metadata": {
    "colab": {
      "provenance": []
    },
    "kernelspec": {
      "display_name": "Python 3",
      "name": "python3"
    },
    "language_info": {
      "name": "python"
    }
  },
  "nbformat": 4,
  "nbformat_minor": 0
}